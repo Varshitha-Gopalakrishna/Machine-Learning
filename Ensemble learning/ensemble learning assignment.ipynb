{
 "cells": [
  {
   "cell_type": "code",
   "execution_count": 1,
   "metadata": {},
   "outputs": [],
   "source": [
    "#THEORITICAL QUESTIONS\n"
   ]
  },
  {
   "cell_type": "code",
   "execution_count": null,
   "metadata": {},
   "outputs": [],
   "source": [
    "\"\"\"\n",
    "1) Can we use Bagging for regression problems?\n",
    "Answer-\n",
    "Yes, Bagging can be used for regression problems, commonly with models like Bagging Regressor using decision trees.\n",
    "\"\"\""
   ]
  },
  {
   "cell_type": "code",
   "execution_count": null,
   "metadata": {},
   "outputs": [],
   "source": [
    "\"\"\" 2) What is the difference between multiple model training and single model training?\n",
    "Answer-\n",
    "Single model training uses one model to learn patterns from data, while multiple model training (ensemble learning) combines multiple models to improve accuracy, reduce variance, and enhance generalization.\n",
    "\"\"\""
   ]
  },
  {
   "cell_type": "code",
   "execution_count": null,
   "metadata": {},
   "outputs": [],
   "source": [
    "\"\"\" 3) Explain the concept of feature randomness in Random Forest.\n",
    "Answer-\n",
    "Feature randomness in Random Forest means that each tree in the forest is trained on a random subset of features, promoting diversity among trees and reducing overfitting.\n",
    "\"\"\""
   ]
  },
  {
   "cell_type": "code",
   "execution_count": null,
   "metadata": {},
   "outputs": [],
   "source": [
    "\"\"\" 4) What is OOB (Out-of-Bag) Score?\n",
    "Answer-\n",
    "OOB Score is an estimate of model performance in Bagging, computed using data samples that were not included in the bootstrap sample for training a particular tree.\n",
    "\"\"\""
   ]
  },
  {
   "cell_type": "code",
   "execution_count": null,
   "metadata": {},
   "outputs": [],
   "source": [
    "\"\"\" 5) How can you measure the importance of features in a Random Forest model?\n",
    "Answer-\n",
    "Feature importance in Random Forest is measured using metrics like Gini importance (impurity-based) or permutation importance, which evaluates how much each feature contributes to the model's performance.\n",
    "\"\"\""
   ]
  },
  {
   "cell_type": "code",
   "execution_count": null,
   "metadata": {},
   "outputs": [],
   "source": [
    "\"\"\" 6) Explain the working principle of a Bagging Classifier.\n",
    "Answer-\n",
    "A Bagging Classifier trains multiple base models on different bootstrap samples of the data and combines their predictions (majority voting for classification) to improve accuracy and robustness.\n",
    "\"\"\""
   ]
  },
  {
   "cell_type": "code",
   "execution_count": null,
   "metadata": {},
   "outputs": [],
   "source": [
    "\"\"\" 7) How do you evaluate a Bagging Classifier’s performance?\n",
    "Answer-\n",
    "Performance can be evaluated using metrics like accuracy, precision, recall, F1-score, ROC-AUC, or cross-validation methods to assess its generalization capability.\n",
    "\"\"\""
   ]
  },
  {
   "cell_type": "code",
   "execution_count": null,
   "metadata": {},
   "outputs": [],
   "source": [
    "\"\"\" 8) How does a Bagging Regressor work?\n",
    "Answer-\n",
    "A Bagging Regressor trains multiple regression models on bootstrap samples and averages their predictions to reduce variance and improve stability.\n",
    "\"\"\""
   ]
  },
  {
   "cell_type": "code",
   "execution_count": null,
   "metadata": {},
   "outputs": [],
   "source": [
    "\"\"\" 9) What is the main advantage of ensemble techniques?\n",
    "Answer-\n",
    "Ensemble techniques enhance predictive performance by combining multiple models, reducing overfitting, and improving generalization.\n",
    "\"\"\""
   ]
  },
  {
   "cell_type": "code",
   "execution_count": null,
   "metadata": {},
   "outputs": [],
   "source": [
    "\"\"\" 10) What is the main challenge of ensemble methods?\n",
    "Answer-\n",
    "The main challenge is increased computational complexity, as training multiple models requires more time and resources compared to a single model.\n",
    "\"\"\""
   ]
  },
  {
   "cell_type": "code",
   "execution_count": null,
   "metadata": {},
   "outputs": [],
   "source": [
    "\"\"\" 11) Explain the key idea behind ensemble techniques.\n",
    "Answer-\n",
    "The key idea is to combine multiple models' predictions to improve accuracy, reduce variance, and achieve better generalization than individual models.\n",
    "\"\"\""
   ]
  },
  {
   "cell_type": "code",
   "execution_count": null,
   "metadata": {},
   "outputs": [],
   "source": [
    "\"\"\" 12) What is a Random Forest Classifier?\n",
    "Answer-\n",
    "A Random Forest Classifier is an ensemble learning method that builds multiple decision trees on random subsets of data and features, combining their predictions via majority voting.\n",
    "\"\"\""
   ]
  },
  {
   "cell_type": "code",
   "execution_count": null,
   "metadata": {},
   "outputs": [],
   "source": [
    "\"\"\" 13) What are the main types of ensemble techniques?\n",
    "Answer-\n",
    "The main types are Bagging, Boosting, Stacking, and Voting, each using different strategies to combine multiple models for improved performance.\n",
    "\"\"\""
   ]
  },
  {
   "cell_type": "code",
   "execution_count": null,
   "metadata": {},
   "outputs": [],
   "source": [
    "\"\"\" 14) What is ensemble learning in machine learning?\n",
    "Answer-\n",
    "Ensemble learning is a technique that combines multiple models to make more accurate and robust predictions than individual models.\n",
    "\"\"\""
   ]
  },
  {
   "cell_type": "code",
   "execution_count": null,
   "metadata": {},
   "outputs": [],
   "source": [
    "\"\"\" 15) When should we avoid using ensemble methods?\n",
    "Answer-\n",
    "Avoid ensemble methods when the base model already performs well, when computational cost is a concern, or when interpretability is more important than accuracy.\n",
    "\"\"\""
   ]
  },
  {
   "cell_type": "code",
   "execution_count": null,
   "metadata": {},
   "outputs": [],
   "source": [
    "\"\"\" 16) How does Bagging help in reducing overfitting?\n",
    "Answer-\n",
    "Bagging reduces overfitting by training multiple models on different bootstrap samples and averaging their predictions, reducing variance without increasing bias.\n",
    "\"\"\""
   ]
  },
  {
   "cell_type": "code",
   "execution_count": null,
   "metadata": {},
   "outputs": [],
   "source": [
    "\"\"\" 17) Why is Random Forest better than a single Decision Tree?\n",
    "Answer-\n",
    "Random Forest is better because it reduces overfitting, improves generalization, and provides more stable predictions by aggregating multiple decision trees.\n",
    "\"\"\""
   ]
  },
  {
   "cell_type": "code",
   "execution_count": null,
   "metadata": {},
   "outputs": [],
   "source": [
    "\"\"\" 18) What is the role of bootstrap sampling in Bagging?\n",
    "Answer-\n",
    "Bootstrap sampling creates diverse training sets by randomly selecting samples with replacement, ensuring each model in the ensemble sees different variations of the data.\n",
    "\"\"\""
   ]
  },
  {
   "cell_type": "code",
   "execution_count": null,
   "metadata": {},
   "outputs": [],
   "source": [
    "\"\"\" 19) What are some real-world applications of ensemble techniques?\n",
    "Answer-\n",
    "Ensemble techniques are used in fraud detection, medical diagnosis, recommendation systems, finance, and image recognition for improved prediction accuracy.\n",
    "\"\"\""
   ]
  },
  {
   "cell_type": "code",
   "execution_count": null,
   "metadata": {},
   "outputs": [],
   "source": [
    "\"\"\" 20) What is the difference between Bagging and Boosting?\n",
    "Answer-\n",
    "Bagging trains multiple models independently on random subsets, reducing variance, while Boosting trains models sequentially, focusing on correcting previous errors to reduce bias.\n",
    "\"\"\""
   ]
  },
  {
   "cell_type": "code",
   "execution_count": null,
   "metadata": {},
   "outputs": [],
   "source": [
    "#PRACTICAL QUESTIONS"
   ]
  },
  {
   "cell_type": "code",
   "execution_count": 43,
   "metadata": {},
   "outputs": [
    {
     "name": "stdout",
     "output_type": "stream",
     "text": [
      "Bagging Classifier Accuracy: 0.956140350877193\n"
     ]
    }
   ],
   "source": [
    "\"\"\"\n",
    "21) Train a Bagging Classifier using Decision Trees on a sample dataset and print model accuracy\n",
    "Answer-\n",
    "\"\"\"\n",
    "from sklearn.ensemble import BaggingClassifier\n",
    "from sklearn.tree import DecisionTreeClassifier\n",
    "from sklearn.datasets import load_breast_cancer\n",
    "from sklearn.model_selection import train_test_split\n",
    "from sklearn.metrics import accuracy_score\n",
    "import warnings\n",
    "warnings.filterwarnings('ignore')\n",
    "\n",
    "X, y = load_breast_cancer(return_X_y=True)\n",
    "X_train, X_test, y_train, y_test = train_test_split(X, y, test_size=0.2, random_state=42)\n",
    "\n",
    "bagging_clf = BaggingClassifier(estimator=DecisionTreeClassifier(), n_estimators=10, random_state=42)\n",
    "bagging_clf.fit(X_train, y_train)\n",
    "y_pred = bagging_clf.predict(X_test)\n",
    "\n",
    "print(\"Bagging Classifier Accuracy:\", accuracy_score(y_test, y_pred))\n"
   ]
  },
  {
   "cell_type": "code",
   "execution_count": 8,
   "metadata": {},
   "outputs": [
    {
     "name": "stdout",
     "output_type": "stream",
     "text": [
      "Bagging Regressor MSE: 3184.8228808778\n"
     ]
    }
   ],
   "source": [
    "\"\"\"\n",
    "22) Train a Bagging Regressor using Decision Trees and evaluate using Mean Squared Error (MSE)\n",
    "Answer-\n",
    "\"\"\"\n",
    "from sklearn.ensemble import BaggingRegressor\n",
    "from sklearn.tree import DecisionTreeRegressor\n",
    "from sklearn.datasets import make_regression\n",
    "from sklearn.metrics import mean_squared_error\n",
    "\n",
    "X, y = make_regression(n_samples=1000, n_features=10, noise=0.2, random_state=42)\n",
    "X_train, X_test, y_train, y_test = train_test_split(X, y, test_size=0.2, random_state=42)\n",
    "\n",
    "bagging_reg = BaggingRegressor(estimator=DecisionTreeRegressor(), n_estimators=10, random_state=42)\n",
    "bagging_reg.fit(X_train, y_train)\n",
    "y_pred = bagging_reg.predict(X_test)\n",
    "\n",
    "print(\"Bagging Regressor MSE:\", mean_squared_error(y_test, y_pred))\n"
   ]
  },
  {
   "cell_type": "code",
   "execution_count": 11,
   "metadata": {},
   "outputs": [
    {
     "name": "stdout",
     "output_type": "stream",
     "text": [
      "Feature Importance Scores: [0.04870337 0.01359088 0.05326975 0.04755501 0.00728533 0.01394433\n",
      " 0.06800084 0.10620999 0.00377029 0.00388577 0.02013892 0.00472399\n",
      " 0.01130301 0.02240696 0.00427091 0.00525322 0.00938583 0.00351326\n",
      " 0.00401842 0.00532146 0.07798688 0.02174901 0.06711483 0.15389236\n",
      " 0.01064421 0.02026604 0.0318016  0.14466327 0.01012018 0.00521012]\n"
     ]
    }
   ],
   "source": [
    "\"\"\"\n",
    "23) Train a Random Forest Classifier on the Breast Cancer dataset and print feature importance scores\n",
    "Answer-\n",
    "\"\"\"\n",
    "from sklearn.ensemble import RandomForestClassifier\n",
    "from sklearn.datasets import load_breast_cancer\n",
    "from sklearn.model_selection import train_test_split\n",
    "\n",
    "# Load the dataset\n",
    "X, y = load_breast_cancer(return_X_y=True)\n",
    "\n",
    "# Ensure correct data split\n",
    "X_train, X_test, y_train, y_test = train_test_split(X, y, test_size=0.2, random_state=42)\n",
    "\n",
    "# Train the Random Forest Classifier\n",
    "rf_clf = RandomForestClassifier(n_estimators=100, random_state=42)\n",
    "rf_clf.fit(X_train, y_train)\n",
    "\n",
    "# Print feature importance scores\n",
    "print(\"Feature Importance Scores:\", rf_clf.feature_importances_)\n",
    "\n"
   ]
  },
  {
   "cell_type": "code",
   "execution_count": 12,
   "metadata": {},
   "outputs": [
    {
     "name": "stdout",
     "output_type": "stream",
     "text": [
      "Decision Tree MSE: 0.05263157894736842\n",
      "Random Forest MSE: 0.03276140350877193\n"
     ]
    }
   ],
   "source": [
    "\"\"\"\n",
    "24) Train a Random Forest Regressor and compare its performance with a single Decision Tree\n",
    "Answer-\n",
    "\"\"\"\n",
    "from sklearn.ensemble import RandomForestRegressor\n",
    "\n",
    "dt_reg = DecisionTreeRegressor(random_state=42)\n",
    "dt_reg.fit(X_train, y_train)\n",
    "dt_pred = dt_reg.predict(X_test)\n",
    "\n",
    "rf_reg = RandomForestRegressor(n_estimators=100, random_state=42)\n",
    "rf_reg.fit(X_train, y_train)\n",
    "rf_pred = rf_reg.predict(X_test)\n",
    "\n",
    "print(\"Decision Tree MSE:\", mean_squared_error(y_test, dt_pred))\n",
    "print(\"Random Forest MSE:\", mean_squared_error(y_test, rf_pred))\n"
   ]
  },
  {
   "cell_type": "code",
   "execution_count": 13,
   "metadata": {},
   "outputs": [
    {
     "name": "stdout",
     "output_type": "stream",
     "text": [
      "OOB Score: 0.9560439560439561\n"
     ]
    }
   ],
   "source": [
    "\"\"\"\n",
    "25) Compute the Out-of-Bag (OOB) Score for a Random Forest Classifier\n",
    "Answer-\n",
    "\"\"\"\n",
    "rf_clf = RandomForestClassifier(n_estimators=100, oob_score=True, random_state=42)\n",
    "rf_clf.fit(X_train, y_train)\n",
    "\n",
    "print(\"OOB Score:\", rf_clf.oob_score_)\n"
   ]
  },
  {
   "cell_type": "code",
   "execution_count": 15,
   "metadata": {},
   "outputs": [
    {
     "name": "stdout",
     "output_type": "stream",
     "text": [
      "Bagging SVM Accuracy: 0.9473684210526315\n"
     ]
    }
   ],
   "source": [
    "\"\"\"\n",
    "26) Train a Bagging Classifier using SVM as a base estimator and print accuracy\n",
    "Answer-\n",
    "\"\"\"\n",
    "from sklearn.svm import SVC\n",
    "\n",
    "bagging_svm = BaggingClassifier(estimator=SVC(), n_estimators=10, random_state=42)\n",
    "bagging_svm.fit(X_train, y_train)\n",
    "y_pred = bagging_svm.predict(X_test)\n",
    "\n",
    "print(\"Bagging SVM Accuracy:\", accuracy_score(y_test, y_pred))\n"
   ]
  },
  {
   "cell_type": "code",
   "execution_count": 17,
   "metadata": {},
   "outputs": [
    {
     "name": "stdout",
     "output_type": "stream",
     "text": [
      "Random Forest (10 trees) Accuracy: 0.956140350877193\n",
      "Random Forest (50 trees) Accuracy: 0.9649122807017544\n",
      "Random Forest (100 trees) Accuracy: 0.9649122807017544\n",
      "Random Forest (200 trees) Accuracy: 0.9649122807017544\n"
     ]
    }
   ],
   "source": [
    "\"\"\"\n",
    "27) Train a Random Forest Classifier with different numbers of trees and compare accuracy\n",
    "Answer-\n",
    "\"\"\"\n",
    "for n in [10, 50, 100, 200]:\n",
    "    rf_clf = RandomForestClassifier(n_estimators=n, random_state=42)\n",
    "    rf_clf.fit(X_train, y_train)\n",
    "    y_pred = rf_clf.predict(X_test)\n",
    "    print(f\"Random Forest ({n} trees) Accuracy:\", accuracy_score(y_test, y_pred))\n"
   ]
  },
  {
   "cell_type": "code",
   "execution_count": 20,
   "metadata": {},
   "outputs": [
    {
     "name": "stdout",
     "output_type": "stream",
     "text": [
      "Bagging Logistic Regression AUC: 0.9963969865705864\n"
     ]
    }
   ],
   "source": [
    "\"\"\"\n",
    "28) Train a Bagging Classifier using Logistic Regression as a base estimator and print AUC score\n",
    "Answer-\n",
    "\"\"\"\n",
    "from sklearn.ensemble import BaggingClassifier\n",
    "from sklearn.linear_model import LogisticRegression\n",
    "from sklearn.metrics import roc_auc_score\n",
    "from sklearn.preprocessing import StandardScaler\n",
    "from sklearn.pipeline import make_pipeline\n",
    "\n",
    "# Standardize the data\n",
    "scaler = StandardScaler()\n",
    "X_train_scaled = scaler.fit_transform(X_train)\n",
    "X_test_scaled = scaler.transform(X_test)\n",
    "\n",
    "# Train Bagging Classifier with Logistic Regression\n",
    "bagging_lr = BaggingClassifier(\n",
    "    estimator=LogisticRegression(max_iter=500),  # Increase iterations\n",
    "    n_estimators=10,\n",
    "    random_state=42\n",
    ")\n",
    "bagging_lr.fit(X_train_scaled, y_train)\n",
    "\n",
    "# Predict probabilities\n",
    "y_pred_proba = bagging_lr.predict_proba(X_test_scaled)[:, 1]\n",
    "\n",
    "# Compute AUC score\n",
    "print(\"Bagging Logistic Regression AUC:\", roc_auc_score(y_test, y_pred_proba))\n"
   ]
  },
  {
   "cell_type": "code",
   "execution_count": 21,
   "metadata": {},
   "outputs": [
    {
     "name": "stdout",
     "output_type": "stream",
     "text": [
      "Feature Importance Scores: [0.00140464 0.02106669 0.00253679 0.00514265 0.00665222 0.00077436\n",
      " 0.00465622 0.20278063 0.00266848 0.00214951 0.00369567 0.00376398\n",
      " 0.00391315 0.01023858 0.00347514 0.00170722 0.00658655 0.00326183\n",
      " 0.00354071 0.00527785 0.10347025 0.0254747  0.15894716 0.11817087\n",
      " 0.00845557 0.00183561 0.01177066 0.26993618 0.00421464 0.0024315 ]\n"
     ]
    }
   ],
   "source": [
    "\"\"\"\n",
    "29) Train a Random Forest Regressor and analyze feature importance scores\n",
    "Answer-\n",
    "\"\"\"\n",
    "rf_reg.fit(X_train, y_train)\n",
    "\n",
    "print(\"Feature Importance Scores:\", rf_reg.feature_importances_)\n"
   ]
  },
  {
   "cell_type": "code",
   "execution_count": 22,
   "metadata": {},
   "outputs": [
    {
     "name": "stdout",
     "output_type": "stream",
     "text": [
      "Bagging Classifier Accuracy: 0.956140350877193\n",
      "Random Forest Classifier Accuracy: 0.9649122807017544\n"
     ]
    }
   ],
   "source": [
    "\"\"\"\n",
    "30) Train an ensemble model using both Bagging and Random Forest and compare accuracy\n",
    "Answer-\n",
    "\"\"\"\n",
    "bagging_clf.fit(X_train, y_train)\n",
    "rf_clf.fit(X_train, y_train)\n",
    "\n",
    "print(\"Bagging Classifier Accuracy:\", accuracy_score(y_test, bagging_clf.predict(X_test)))\n",
    "print(\"Random Forest Classifier Accuracy:\", accuracy_score(y_test, rf_clf.predict(X_test)))\n"
   ]
  },
  {
   "cell_type": "code",
   "execution_count": 23,
   "metadata": {},
   "outputs": [
    {
     "name": "stdout",
     "output_type": "stream",
     "text": [
      "Best Parameters: {'max_depth': None, 'min_samples_split': 2, 'n_estimators': 150}\n",
      "Best Score: 0.9626373626373625\n"
     ]
    }
   ],
   "source": [
    "\"\"\"\n",
    "31) Train a Random Forest Classifier and tune hyperparameters using GridSearchCV\n",
    "Answer-\n",
    "\"\"\"\n",
    "from sklearn.ensemble import RandomForestClassifier\n",
    "from sklearn.model_selection import GridSearchCV\n",
    "\n",
    "param_grid = {\n",
    "    'n_estimators': [50, 100, 150],\n",
    "    'max_depth': [None, 10, 20],\n",
    "    'min_samples_split': [2, 5, 10]\n",
    "}\n",
    "\n",
    "rf_clf = RandomForestClassifier(random_state=42)\n",
    "grid_search = GridSearchCV(rf_clf, param_grid, cv=5, scoring='accuracy')\n",
    "grid_search.fit(X_train, y_train)\n",
    "\n",
    "print(\"Best Parameters:\", grid_search.best_params_)\n",
    "print(\"Best Score:\", grid_search.best_score_)"
   ]
  },
  {
   "cell_type": "code",
   "execution_count": 24,
   "metadata": {},
   "outputs": [
    {
     "name": "stdout",
     "output_type": "stream",
     "text": [
      "Bagging Regressor (n_estimators=5) MSE: 0.03508771929824562\n",
      "Bagging Regressor (n_estimators=10) MSE: 0.037456140350877194\n",
      "Bagging Regressor (n_estimators=20) MSE: 0.03776315789473684\n"
     ]
    }
   ],
   "source": [
    "\"\"\"\n",
    "32) Train a Bagging Regressor with different numbers of base estimators and compare performance\n",
    "Answer-\n",
    "\"\"\"\n",
    "from sklearn.ensemble import BaggingRegressor\n",
    "from sklearn.metrics import mean_squared_error\n",
    "\n",
    "for n in [5, 10, 20]:\n",
    "    bagging_reg = BaggingRegressor(n_estimators=n, random_state=42)\n",
    "    bagging_reg.fit(X_train, y_train)\n",
    "    y_pred = bagging_reg.predict(X_test)\n",
    "    print(f\"Bagging Regressor (n_estimators={n}) MSE:\", mean_squared_error(y_test, y_pred))\n"
   ]
  },
  {
   "cell_type": "code",
   "execution_count": 26,
   "metadata": {},
   "outputs": [
    {
     "name": "stdout",
     "output_type": "stream",
     "text": [
      "Number of misclassified samples: 4\n"
     ]
    }
   ],
   "source": [
    "\"\"\"\n",
    "33) Train a Random Forest Classifier and analyze misclassified samples\n",
    "Answer-\n",
    "\"\"\"\n",
    "rf_clf = RandomForestClassifier(n_estimators=100, random_state=42)\n",
    "rf_clf.fit(X_train, y_train)\n",
    "y_pred = rf_clf.predict(X_test)\n",
    "\n",
    "misclassified_samples = X_test[y_pred != y_test]\n",
    "print(\"Number of misclassified samples:\", misclassified_samples.shape[0])\n"
   ]
  },
  {
   "cell_type": "code",
   "execution_count": 27,
   "metadata": {},
   "outputs": [
    {
     "name": "stdout",
     "output_type": "stream",
     "text": [
      "Decision Tree Accuracy: 0.9473684210526315\n",
      "Bagging Classifier Accuracy: 0.956140350877193\n"
     ]
    }
   ],
   "source": [
    "\"\"\"\n",
    "34) Train a Bagging Classifier and compare its performance with a single Decision Tree Classifier\n",
    "Answer-\n",
    "\"\"\"\n",
    "from sklearn.tree import DecisionTreeClassifier\n",
    "\n",
    "dt_clf = DecisionTreeClassifier(random_state=42)\n",
    "dt_clf.fit(X_train, y_train)\n",
    "dt_acc = accuracy_score(y_test, dt_clf.predict(X_test))\n",
    "\n",
    "bagging_clf = BaggingClassifier(estimator=DecisionTreeClassifier(), n_estimators=10, random_state=42)\n",
    "bagging_clf.fit(X_train, y_train)\n",
    "bagging_acc = accuracy_score(y_test, bagging_clf.predict(X_test))\n",
    "\n",
    "print(\"Decision Tree Accuracy:\", dt_acc)\n",
    "print(\"Bagging Classifier Accuracy:\", bagging_acc)\n"
   ]
  },
  {
   "cell_type": "code",
   "execution_count": 28,
   "metadata": {},
   "outputs": [
    {
     "data": {
      "image/png": "[encoded data removed]",
      "text/plain": [
       "<Figure size 600x400 with 2 Axes>"
      ]
     },
     "metadata": {},
     "output_type": "display_data"
    }
   ],
   "source": [
    "\"\"\"\n",
    "35) Train a Random Forest Classifier and visualize the confusion matrix\n",
    "Answer-\n",
    "\"\"\"\n",
    "from sklearn.metrics import confusion_matrix\n",
    "import seaborn as sns\n",
    "import matplotlib.pyplot as plt\n",
    "\n",
    "cm = confusion_matrix(y_test, rf_clf.predict(X_test))\n",
    "\n",
    "plt.figure(figsize=(6, 4))\n",
    "sns.heatmap(cm, annot=True, fmt='d', cmap='Blues')\n",
    "plt.xlabel(\"Predicted\")\n",
    "plt.ylabel(\"Actual\")\n",
    "plt.title(\"Confusion Matrix\")\n",
    "plt.show()\n"
   ]
  },
  {
   "cell_type": "code",
   "execution_count": 45,
   "metadata": {},
   "outputs": [
    {
     "name": "stdout",
     "output_type": "stream",
     "text": [
      "Stacking Classifier Accuracy: 0.9649122807017544\n"
     ]
    }
   ],
   "source": [
    "\"\"\"\n",
    "36) Train a Stacking Classifier using Decision Trees, SVM, and Logistic Regression, and compare accuracy\n",
    "Answer-\n",
    "\"\"\"\n",
    "from sklearn.ensemble import StackingClassifier\n",
    "from sklearn.svm import SVC\n",
    "\n",
    "stack_clf = StackingClassifier(\n",
    "    estimators=[\n",
    "        ('dt', DecisionTreeClassifier()),\n",
    "        ('svm', SVC(probability=True)),\n",
    "        ('lr', LogisticRegression(max_iter=500))\n",
    "    ],\n",
    "    final_estimator=LogisticRegression()\n",
    ")\n",
    "\n",
    "stack_clf.fit(X_train, y_train)\n",
    "print(\"Stacking Classifier Accuracy:\", accuracy_score(y_test, stack_clf.predict(X_test)))\n"
   ]
  },
  {
   "cell_type": "code",
   "execution_count": 30,
   "metadata": {},
   "outputs": [
    {
     "name": "stdout",
     "output_type": "stream",
     "text": [
      "Top 5 important features: [ 6 20  7 27 23]\n"
     ]
    }
   ],
   "source": [
    "\"\"\"\n",
    "37) Train a Random Forest Classifier and print the top 5 most important features\n",
    "Answer-\n",
    "\"\"\"\n",
    "import numpy as np\n",
    "\n",
    "feature_importances = rf_clf.feature_importances_\n",
    "top_features = np.argsort(feature_importances)[-5:]\n",
    "\n",
    "print(\"Top 5 important features:\", top_features)\n"
   ]
  },
  {
   "cell_type": "code",
   "execution_count": 31,
   "metadata": {},
   "outputs": [
    {
     "name": "stdout",
     "output_type": "stream",
     "text": [
      "Precision: 0.9583333333333334\n",
      "Recall: 0.971830985915493\n",
      "F1-score: 0.965034965034965\n"
     ]
    }
   ],
   "source": [
    "\"\"\"\n",
    "38) Train a Bagging Classifier and evaluate performance using Precision, Recall, and F1-score\n",
    "Answer-\n",
    "\"\"\"\n",
    "from sklearn.metrics import precision_score, recall_score, f1_score\n",
    "\n",
    "y_pred = bagging_clf.predict(X_test)\n",
    "print(\"Precision:\", precision_score(y_test, y_pred))\n",
    "print(\"Recall:\", recall_score(y_test, y_pred))\n",
    "print(\"F1-score:\", f1_score(y_test, y_pred))\n"
   ]
  },
  {
   "cell_type": "code",
   "execution_count": 32,
   "metadata": {},
   "outputs": [
    {
     "name": "stdout",
     "output_type": "stream",
     "text": [
      "Random Forest (max_depth=5) Accuracy: 0.9649122807017544\n",
      "Random Forest (max_depth=10) Accuracy: 0.9649122807017544\n",
      "Random Forest (max_depth=20) Accuracy: 0.9649122807017544\n",
      "Random Forest (max_depth=None) Accuracy: 0.9649122807017544\n"
     ]
    }
   ],
   "source": [
    "\"\"\"\n",
    "39) Train a Random Forest Classifier and analyze the effect of max_depth on accuracy\n",
    "Answer-\n",
    "\"\"\"\n",
    "for depth in [5, 10, 20, None]:\n",
    "    rf_clf = RandomForestClassifier(n_estimators=100, max_depth=depth, random_state=42)\n",
    "    rf_clf.fit(X_train, y_train)\n",
    "    acc = accuracy_score(y_test, rf_clf.predict(X_test))\n",
    "    print(f\"Random Forest (max_depth={depth}) Accuracy:\", acc)\n"
   ]
  },
  {
   "cell_type": "code",
   "execution_count": 34,
   "metadata": {},
   "outputs": [
    {
     "name": "stdout",
     "output_type": "stream",
     "text": [
      "Bagging with DecisionTreeRegressor MSE: 0.037456140350877194\n",
      "Bagging with KNeighborsRegressor MSE: 0.029428070175438595\n"
     ]
    }
   ],
   "source": [
    "\"\"\"\n",
    "40) Train a Bagging Regressor using different base estimators (DecisionTree and KNeighbors) and compare performance\n",
    "Answer-\n",
    "\"\"\"\n",
    "from sklearn.neighbors import KNeighborsRegressor\n",
    "\n",
    "for estimator in [DecisionTreeRegressor(), KNeighborsRegressor()]:\n",
    "    bagging_reg = BaggingRegressor(estimator=estimator, n_estimators=10, random_state=42)\n",
    "    bagging_reg.fit(X_train, y_train)\n",
    "    y_pred = bagging_reg.predict(X_test)\n",
    "    print(f\"Bagging with {estimator.__class__.__name__} MSE:\", mean_squared_error(y_test, y_pred))\n"
   ]
  },
  {
   "cell_type": "code",
   "execution_count": 35,
   "metadata": {},
   "outputs": [
    {
     "name": "stdout",
     "output_type": "stream",
     "text": [
      "Random Forest ROC-AUC: 0.9952505732066819\n"
     ]
    }
   ],
   "source": [
    "\"\"\"\n",
    "41) Train a Random Forest Classifier and evaluate its performance using ROC-AUC Score\n",
    "Answer-\n",
    "\"\"\"\n",
    "print(\"Random Forest ROC-AUC:\", roc_auc_score(y_test, rf_clf.predict_proba(X_test)[:, 1]))\n"
   ]
  },
  {
   "cell_type": "code",
   "execution_count": 37,
   "metadata": {},
   "outputs": [
    {
     "name": "stdout",
     "output_type": "stream",
     "text": [
      "Bagging Classifier Cross-Validation Score: 0.9508306163639186\n"
     ]
    }
   ],
   "source": [
    "\"\"\"\n",
    "42) Train a Bagging Classifier and evaluate its performance using cross-validation\n",
    "Answer-\n",
    "\"\"\"\n",
    "from sklearn.model_selection import cross_val_score\n",
    "cv_scores = cross_val_score(bagging_clf, X, y, cv=5, scoring='accuracy')\n",
    "print(\"Bagging Classifier Cross-Validation Score:\", np.mean(cv_scores))\n"
   ]
  },
  {
   "cell_type": "code",
   "execution_count": 38,
   "metadata": {},
   "outputs": [
    {
     "data": {
      "image/png": "[encoded data removed]",
      "text/plain": [
       "<Figure size 640x480 with 1 Axes>"
      ]
     },
     "metadata": {},
     "output_type": "display_data"
    }
   ],
   "source": [
    "\n",
    "\"\"\"\n",
    "43) Train a Random Forest Classifier and plot the Precision-Recall curve\n",
    "Answer-\n",
    "\"\"\"\n",
    "from sklearn.metrics import precision_recall_curve\n",
    "\n",
    "y_scores = rf_clf.predict_proba(X_test)[:, 1]\n",
    "precision, recall, _ = precision_recall_curve(y_test, y_scores)\n",
    "\n",
    "plt.plot(recall, precision, marker='.')\n",
    "plt.xlabel(\"Recall\")\n",
    "plt.ylabel(\"Precision\")\n",
    "plt.title(\"Precision-Recall Curve\")\n",
    "plt.show()"
   ]
  },
  {
   "cell_type": "code",
   "execution_count": 44,
   "metadata": {},
   "outputs": [
    {
     "name": "stdout",
     "output_type": "stream",
     "text": [
      "Stacking Classifier Accuracy: 0.9736842105263158\n"
     ]
    }
   ],
   "source": [
    "\"\"\"\n",
    "44) Train a Stacking Classifier with Random Forest and Logistic Regression and compare accuracy\n",
    "Answer-\n",
    "\"\"\"\n",
    "stack_clf = StackingClassifier(\n",
    "    estimators=[\n",
    "        ('rf', RandomForestClassifier(n_estimators=100)),\n",
    "        ('lr', LogisticRegression(max_iter=500, solver='saga'))\n",
    "    ],\n",
    "    final_estimator=LogisticRegression()\n",
    ")\n",
    "stack_clf.fit(X_train, y_train)\n",
    "print(\"Stacking Classifier Accuracy:\", accuracy_score(y_test, stack_clf.predict(X_test)))\n"
   ]
  },
  {
   "cell_type": "code",
   "execution_count": 40,
   "metadata": {},
   "outputs": [
    {
     "name": "stdout",
     "output_type": "stream",
     "text": [
      "Bagging Regressor (bootstrap=True) MSE: 0.037456140350877194\n",
      "Bagging Regressor (bootstrap=False) MSE: 0.058333333333333334\n"
     ]
    }
   ],
   "source": [
    "\"\"\"\n",
    "45) Train a Bagging Regressor with different levels of bootstrap samples and compare performance\n",
    "Answer-\n",
    "\"\"\"\n",
    "for bootstrap in [True, False]:\n",
    "    bagging_reg = BaggingRegressor(n_estimators=10, bootstrap=bootstrap, random_state=42)\n",
    "    bagging_reg.fit(X_train, y_train)\n",
    "    y_pred = bagging_reg.predict(X_test)\n",
    "    print(f\"Bagging Regressor (bootstrap={bootstrap}) MSE:\", mean_squared_error(y_test, y_pred))"
   ]
  },
  {
   "cell_type": "code",
   "execution_count": null,
   "metadata": {},
   "outputs": [],
   "source": []
  }
 ],
 "metadata": {
  "kernelspec": {
   "display_name": "Python 3",
   "language": "python",
   "name": "python3"
  },
  "language_info": {
   "codemirror_mode": {
    "name": "ipython",
    "version": 3
   },
   "file_extension": ".py",
   "mimetype": "text/x-python",
   "name": "python",
   "nbconvert_exporter": "python",
   "pygments_lexer": "ipython3",
   "version": "3.12.6"
  }
 },
 "nbformat": 4,
 "nbformat_minor": 2
}
