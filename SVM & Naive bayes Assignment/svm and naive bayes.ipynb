{
 "cells": [
  {
   "cell_type": "code",
   "execution_count": null,
   "metadata": {},
   "outputs": [],
   "source": [
    "#SVM & Naive bayes Assignment\n",
    "#THEORITICAL QUESTION"
   ]
  },
  {
   "cell_type": "code",
   "execution_count": null,
   "metadata": {},
   "outputs": [],
   "source": [
    "\"\"\"\n",
    "1)  What is a Support Vector Machine (SVM)?\n",
    "Answer-\n",
    "    A Support Vector Machine (SVM) is a supervised learning algorithm used for classification and regression. It works by finding the \n",
    "    optimal hyperplane that maximizes the margin between different classes. If data is not linearly separable, kernel functions \n",
    "    (e.g., RBF, polynomial) transform it into a higher-dimensional space. SVM is effective for high-dimensional data but can be \n",
    "    computationally expensive for large datasets.\n",
    "\"\"\""
   ]
  },
  {
   "cell_type": "code",
   "execution_count": null,
   "metadata": {},
   "outputs": [],
   "source": [
    "\"\"\" 2) What is the difference between Hard Margin and Soft Margin SVM?\n",
    "Answer-\n",
    "Hard Margin SVM: Strictly separates data with no misclassification, used when data is perfectly separable.\n",
    "Soft Margin SVM: Allows some misclassifications by introducing a slack variable to handle noise and outliers, making it more practical for real-world data.\n",
    "\"\"\""
   ]
  },
  {
   "cell_type": "code",
   "execution_count": null,
   "metadata": {},
   "outputs": [],
   "source": [
    "\"\"\" 3) What is the mathematical intuition behind SVM?\n",
    "Answer-\n",
    "SVM aims to maximize the margin (distance between the hyperplane and closest support vectors).\n",
    "If data is not linearly separable, a soft margin with a penalty parameter C is introduced.\n",
    "Kernel trick maps data to a higher-dimensional space for non-linear separation.\n",
    "\"\"\""
   ]
  },
  {
   "cell_type": "code",
   "execution_count": null,
   "metadata": {},
   "outputs": [],
   "source": [
    "\"\"\" 4) What is the role of Lagrange Multipliers in SVM?\n",
    "Answer-\n",
    "\n",
    "Lagrange multipliers (α) help convert the constrained optimization problem into an unconstrained dual form, making it computationally efficient.\n",
    "They determine the importance of each data point in defining the decision boundary.\n",
    "Only support vectors have nonzero Lagrange multipliers.\n",
    "\"\"\""
   ]
  },
  {
   "cell_type": "code",
   "execution_count": null,
   "metadata": {},
   "outputs": [],
   "source": [
    "\"\"\" 5) What are Support Vectors in SVM?\n",
    "Answer-\n",
    "\n",
    "Support Vectors are the data points closest to the decision boundary (hyperplane).\n",
    "They define the margin and influence the hyperplane's position.\n",
    "Removing non-support vectors does not change the decision boundary.\n",
    "\"\"\""
   ]
  },
  {
   "cell_type": "code",
   "execution_count": null,
   "metadata": {},
   "outputs": [],
   "source": [
    "\"\"\" 6) What is a Support Vector Classifier (SVC)?\n",
    "Answer-\n",
    "\n",
    "SVC is a classification model based on SVM that finds the best hyperplane to separate different classes.\n",
    "It uses soft margin for handling noisy and overlapping data.\n",
    "Kernel functions allow non-linear decision boundaries.\n",
    "\"\"\""
   ]
  },
  {
   "cell_type": "code",
   "execution_count": null,
   "metadata": {},
   "outputs": [],
   "source": [
    "\"\"\" 7) What is a Support Vector Regressor (SVR)?\n",
    "Answer-\n",
    "\n",
    "SVR is the regression version of SVM that tries to fit a function within a margin ε while minimizing errors.\n",
    "Uses support vectors to define the model, making it robust to outliers.\n",
    "Works well for small datasets with high-dimensional features.\n",
    "\"\"\""
   ]
  },
  {
   "cell_type": "code",
   "execution_count": null,
   "metadata": {},
   "outputs": [],
   "source": [
    "\"\"\" 8) What is the Kernel Trick in SVM?\n",
    "Answer-\n",
    "\n",
    "The Kernel Trick transforms non-linearly separable data into a higher-dimensional space where it becomes linearly separable.\n",
    "It avoids explicitly computing high-dimensional transformations, improving efficiency.\n",
    "Common kernels: Linear, Polynomial, RBF, and Sigmoid.\n",
    "\"\"\""
   ]
  },
  {
   "cell_type": "code",
   "execution_count": null,
   "metadata": {},
   "outputs": [],
   "source": [
    "\"\"\" 9) Compare Linear Kernel, Polynomial Kernel, and RBF Kernel:\n",
    "Answer-\n",
    "\n",
    "Linear Kernel: Best for linearly separable data, simple and efficient.\n",
    "Polynomial Kernel: Captures complex patterns but can be computationally expensive.\n",
    "RBF Kernel: Most commonly used, handles non-linearity well and adapts to different data distributions.\n",
    "\"\"\""
   ]
  },
  {
   "cell_type": "code",
   "execution_count": null,
   "metadata": {},
   "outputs": [],
   "source": [
    "\"\"\" 10) What is the effect of the C parameter in SVM?\n",
    "Answer-\n",
    "\n",
    "C controls the trade-off between maximizing margin and minimizing classification error.\n",
    "High C: Focuses on minimizing misclassification but may overfit.\n",
    "Low C: Allows a larger margin but tolerates some misclassification, improving generalization.\n",
    "\"\"\""
   ]
  },
  {
   "cell_type": "code",
   "execution_count": null,
   "metadata": {},
   "outputs": [],
   "source": [
    "\"\"\" 11) What is the role of the Gamma parameter in RBF Kernel SVM?\n",
    "Answer-\n",
    "\n",
    "Gamma (γ) controls the influence of a single training point.\n",
    "High γ: Each point has a short-range influence, leading to a complex model (overfitting).\n",
    "Low γ: Each point has a long-range influence, leading to a simpler model (underfitting).\n",
    "\"\"\""
   ]
  },
  {
   "cell_type": "code",
   "execution_count": null,
   "metadata": {},
   "outputs": [],
   "source": [
    "\"\"\" 12) What is the Naïve Bayes classifier, and why is it called \"Naïve\"?\n",
    "Answer-\n",
    "\n",
    "Naïve Bayes is a probabilistic classifier based on Bayes' Theorem, assuming independence between features.\n",
    "It is called \"naïve\" because it assumes that all features contribute independently to the outcome, which is often unrealistic but works well in practice.\n",
    "\"\"\""
   ]
  },
  {
   "cell_type": "code",
   "execution_count": null,
   "metadata": {},
   "outputs": [],
   "source": [
    "\"\"\" 13) What is Bayes’ Theorem?\n",
    "Answer-\n",
    "Bayes' Theorem is Used in classification to update probabilities based on observed data.\n",
    "\"\"\""
   ]
  },
  {
   "attachments": {
    "image.png": {
     "image/png": "[encoded data removed]"
    }
   },
   "cell_type": "markdown",
   "metadata": {},
   "source": [
    "![image.png](attachment:image.png)"
   ]
  },
  {
   "cell_type": "code",
   "execution_count": null,
   "metadata": {},
   "outputs": [],
   "source": [
    "\"\"\" 14) Explain the differences between Gaussian Naïve Bayes, Multinomial Naïve Bayes, and Bernoulli Naïve Bayes:\n",
    "Answer-\n",
    "\n",
    "Gaussian Naïve Bayes: Assumes features follow a normal (Gaussian) distribution, used for continuous data.\n",
    "Multinomial Naïve Bayes: Used for text classification where features represent word counts or frequencies.\n",
    "Bernoulli Naïve Bayes: Works with binary features (0 or 1), useful for document classification tasks.\n",
    "\"\"\""
   ]
  },
  {
   "cell_type": "code",
   "execution_count": null,
   "metadata": {},
   "outputs": [],
   "source": [
    "\"\"\" 15) When should you use Gaussian Naïve Bayes over other variants?\n",
    "Answer-\n",
    "\n",
    "Use Gaussian Naïve Bayes when features are continuous and approximately normally distributed.\n",
    "Suitable for applications like spam detection, medical diagnosis, and image recognition.\n",
    "\"\"\""
   ]
  },
  {
   "cell_type": "code",
   "execution_count": null,
   "metadata": {},
   "outputs": [],
   "source": [
    "\"\"\" 16) What are the key assumptions made by Naïve Bayes?\n",
    "Answer-\n",
    "\n",
    "Feature independence: All features contribute independently to the probability of a class.\n",
    "Equal importance of features: No single feature dominates the classification.\n",
    "Conditional independence: Given the class label, the presence of one feature does not affect others.\n",
    "\"\"\""
   ]
  },
  {
   "cell_type": "code",
   "execution_count": null,
   "metadata": {},
   "outputs": [],
   "source": [
    "\"\"\" 17) What are the advantages and disadvantages of Naïve Bayes?\n",
    "Answer-\n",
    "Advantages:\n",
    "\n",
    "Fast and efficient, even for large datasets.\n",
    "Works well with high-dimensional data.\n",
    "Performs well for text classification tasks.\n",
    "Disadvantages:\n",
    "\n",
    "Assumes feature independence, which is rarely true in real-world data.\n",
    "Can struggle with datasets where features are highly correlated.\n",
    "Poor at estimating probabilities with very few data points.\n",
    "\"\"\""
   ]
  },
  {
   "cell_type": "code",
   "execution_count": null,
   "metadata": {},
   "outputs": [],
   "source": [
    "\"\"\" 18) Why is Naïve Bayes a good choice for text classification?\n",
    "Answer-\n",
    "\n",
    "Works well with high-dimensional sparse data (e.g., word frequencies).\n",
    "Handles noise and irrelevant words effectively.\n",
    "Fast training and inference, even on large corpora.\n",
    "Often used for spam filtering, sentiment analysis, and topic classification.\n",
    "\"\"\""
   ]
  },
  {
   "cell_type": "code",
   "execution_count": null,
   "metadata": {},
   "outputs": [],
   "source": [
    "\"\"\" 19) Compare SVM and Naïve Bayes for classification tasks:\n",
    "Answer-\n",
    "\n",
    "SVM: Works well with small datasets and high-dimensional data, better for complex decision boundaries.\n",
    "Naïve Bayes: Works best for large datasets and text classification, assumes feature independence.\n",
    "SVM is more computationally expensive, while Naïve Bayes is faster and scalable.\n",
    "Naïve Bayes is probabilistic, whereas SVM is margin-based.\n",
    "\"\"\""
   ]
  },
  {
   "cell_type": "code",
   "execution_count": null,
   "metadata": {},
   "outputs": [],
   "source": [
    "\"\"\" 20) How does Laplace Smoothing help in Naïve Bayes?\n",
    "Answer-\n",
    "\n",
    "Laplace Smoothing prevents zero probability issues when a word is absent from the training data but appears in the test set.\n",
    "It adds a small constant α (usually 1) to all probabilities, ensuring no probability is exactly zero.\n",
    "This improves the robustness of the classifier, especially in text classification.\n",
    "\"\"\""
   ]
  },
  {
   "cell_type": "code",
   "execution_count": null,
   "metadata": {},
   "outputs": [],
   "source": [
    "#PRACTICAL QUESTIONS"
   ]
  },
  {
   "cell_type": "code",
   "execution_count": 2,
   "metadata": {},
   "outputs": [
    {
     "name": "stdout",
     "output_type": "stream",
     "text": [
      "accuracy_score: 1.0\n"
     ]
    }
   ],
   "source": [
    "\"\"\" 21) Write a Python program to train an SVM Classifier on the Iris dataset and evaluate accuracy\n",
    "Answer-\n",
    "\"\"\"\n",
    "from sklearn import datasets\n",
    "from sklearn.model_selection import train_test_split\n",
    "from sklearn.svm import SVC\n",
    "from sklearn.metrics import accuracy_score\n",
    "\n",
    "# Load Iris dataset\n",
    "iris = datasets.load_iris()\n",
    "X, y = iris.data, iris.target\n",
    "\n",
    "# Split dataset\n",
    "X_train, X_test, y_train, y_test = train_test_split(X, y, test_size=0.2, random_state=42)\n",
    "\n",
    "# Train SVM classifier\n",
    "svm_model = SVC(kernel='linear')\n",
    "svm_model.fit(X_train, y_train)\n",
    "\n",
    "# Predict and evaluate\n",
    "y_pred = svm_model.predict(X_test)\n",
    "print(\"accuracy_score:\",accuracy_score(y_test, y_pred))\n",
    "\n"
   ]
  },
  {
   "cell_type": "code",
   "execution_count": 3,
   "metadata": {},
   "outputs": [
    {
     "name": "stdout",
     "output_type": "stream",
     "text": [
      "Linear Kernel Accuracy: 1.00\n",
      "RBF Kernel Accuracy: 0.81\n"
     ]
    }
   ],
   "source": [
    "\"\"\" 22) Write a Python program to train two SVM classifiers with Linear and RBF kernels on the Wine dataset, then compare their accuracies.\n",
    "Answer-\n",
    "\"\"\"\n",
    "\n",
    "from sklearn import datasets\n",
    "from sklearn.model_selection import train_test_split\n",
    "from sklearn.svm import SVC\n",
    "from sklearn.metrics import accuracy_score\n",
    "\n",
    "# Load Wine dataset\n",
    "wine = datasets.load_wine()\n",
    "X, y = wine.data, wine.target\n",
    "\n",
    "# Split dataset\n",
    "X_train, X_test, y_train, y_test = train_test_split(X, y, test_size=0.2, random_state=42)\n",
    "\n",
    "# Train SVM classifiers\n",
    "svm_linear = SVC(kernel='linear')\n",
    "svm_rbf = SVC(kernel='rbf')\n",
    "\n",
    "svm_linear.fit(X_train, y_train)\n",
    "svm_rbf.fit(X_train, y_train)\n",
    "\n",
    "# Predict and evaluate\n",
    "y_pred_linear = svm_linear.predict(X_test)\n",
    "y_pred_rbf = svm_rbf.predict(X_test)\n",
    "\n",
    "accuracy_linear = accuracy_score(y_test, y_pred_linear)\n",
    "accuracy_rbf = accuracy_score(y_test, y_pred_rbf)\n",
    "\n",
    "print(f'Linear Kernel Accuracy: {accuracy_linear:.2f}')\n",
    "print(f'RBF Kernel Accuracy: {accuracy_rbf:.2f}')"
   ]
  },
  {
   "cell_type": "code",
   "execution_count": 5,
   "metadata": {},
   "outputs": [
    {
     "name": "stdout",
     "output_type": "stream",
     "text": [
      "Mean Squared Error: 52.84\n"
     ]
    }
   ],
   "source": [
    "\"\"\" 23) Write a Python program to train an SVM Regressor (SVR) on a housing dataset and evaluate it using Mean Squared Error (MSE).\n",
    "Answer-\n",
    "\"\"\"\n",
    "from sklearn import datasets\n",
    "from sklearn.model_selection import train_test_split\n",
    "from sklearn.svm import SVR\n",
    "from sklearn.metrics import mean_squared_error\n",
    "import warnings\n",
    "warnings.filterwarnings('ignore')\n",
    "\n",
    "# Load Boston Housing dataset (deprecated, so using fetch_openml)\n",
    "from sklearn.datasets import fetch_openml\n",
    "housing = fetch_openml(name=\"boston\", as_frame=True)\n",
    "X, y = housing.data, housing.target\n",
    "\n",
    "# Split dataset\n",
    "X_train, X_test, y_train, y_test = train_test_split(X, y, test_size=0.2, random_state=42)\n",
    "\n",
    "# Train SVR model\n",
    "svr_model = SVR(kernel='rbf')\n",
    "svr_model.fit(X_train, y_train)\n",
    "\n",
    "# Predict and evaluate\n",
    "y_pred = svr_model.predict(X_test)\n",
    "mse = mean_squared_error(y_test, y_pred)\n",
    "print(f'Mean Squared Error: {mse:.2f}')"
   ]
  },
  {
   "cell_type": "code",
   "execution_count": 6,
   "metadata": {},
   "outputs": [
    {
     "data": {
      "image/png": "[encoded data removed]",
      "text/plain": [
       "<Figure size 640x480 with 1 Axes>"
      ]
     },
     "metadata": {},
     "output_type": "display_data"
    }
   ],
   "source": [
    "\"\"\" 24) Write a Python program to train an SVM Classifier with a Polynomial Kernel and visualize the decision boundary.\n",
    "Answer-\n",
    "\"\"\"\n",
    "import numpy as np\n",
    "import matplotlib.pyplot as plt\n",
    "from sklearn import datasets\n",
    "from sklearn.svm import SVC\n",
    "\n",
    "# Load dataset\n",
    "X, y = datasets.make_moons(n_samples=100, noise=0.1, random_state=42)\n",
    "\n",
    "# Train SVM classifier with Polynomial Kernel\n",
    "svm_poly = SVC(kernel='poly', degree=3)\n",
    "svm_poly.fit(X, y)\n",
    "\n",
    "# Plot decision boundary\n",
    "xx, yy = np.meshgrid(np.linspace(X[:, 0].min()-1, X[:, 0].max()+1, 100),\n",
    "                     np.linspace(X[:, 1].min()-1, X[:, 1].max()+1, 100))\n",
    "Z = svm_poly.predict(np.c_[xx.ravel(), yy.ravel()])\n",
    "Z = Z.reshape(xx.shape)\n",
    "\n",
    "plt.contourf(xx, yy, Z, alpha=0.3)\n",
    "plt.scatter(X[:, 0], X[:, 1], c=y, edgecolors='k')\n",
    "plt.title('SVM with Polynomial Kernel')\n",
    "plt.show()"
   ]
  },
  {
   "cell_type": "code",
   "execution_count": 7,
   "metadata": {},
   "outputs": [
    {
     "name": "stdout",
     "output_type": "stream",
     "text": [
      "Accuracy: 0.97\n"
     ]
    }
   ],
   "source": [
    "\"\"\" 25) Write a Python program to train a Gaussian Naïve Bayes classifier on the Breast Cancer dataset and evaluate accuracy.\n",
    "Answer-\n",
    "\"\"\"\n",
    "\n",
    "from sklearn import datasets\n",
    "from sklearn.model_selection import train_test_split\n",
    "from sklearn.naive_bayes import GaussianNB\n",
    "from sklearn.metrics import accuracy_score\n",
    "\n",
    "# Load Breast Cancer dataset\n",
    "cancer = datasets.load_breast_cancer()\n",
    "X, y = cancer.data, cancer.target\n",
    "\n",
    "# Split dataset\n",
    "X_train, X_test, y_train, y_test = train_test_split(X, y, test_size=0.2, random_state=42)\n",
    "\n",
    "# Train Naïve Bayes classifier\n",
    "nb_model = GaussianNB()\n",
    "nb_model.fit(X_train, y_train)\n",
    "\n",
    "# Predict and evaluate\n",
    "y_pred = nb_model.predict(X_test)\n",
    "accuracy = accuracy_score(y_test, y_pred)\n",
    "print(f\"Accuracy: {accuracy_score(y_test, y_pred):.2f}\")\n"
   ]
  },
  {
   "cell_type": "code",
   "execution_count": 8,
   "metadata": {},
   "outputs": [
    {
     "name": "stdout",
     "output_type": "stream",
     "text": [
      "Accuracy: 0.91\n"
     ]
    }
   ],
   "source": [
    "\"\"\" 26) Write a Python program to train a Multinomial Naïve Bayes classifier for text classification using the 20 Newsgroups dataset\n",
    "Answer-\n",
    "\"\"\"\n",
    "from sklearn.datasets import fetch_20newsgroups\n",
    "from sklearn.feature_extraction.text import CountVectorizer, TfidfTransformer\n",
    "from sklearn.naive_bayes import MultinomialNB\n",
    "from sklearn.pipeline import Pipeline\n",
    "from sklearn.model_selection import train_test_split\n",
    "from sklearn.metrics import accuracy_score\n",
    "\n",
    "# Load dataset\n",
    "categories = ['alt.atheism', 'comp.graphics', 'sci.med', 'soc.religion.christian']\n",
    "newsgroups = fetch_20newsgroups(subset='train', categories=categories)\n",
    "X_train, X_test, y_train, y_test = train_test_split(newsgroups.data, newsgroups.target, test_size=0.2, random_state=42)\n",
    "\n",
    "# Create a text processing and classification pipeline\n",
    "text_clf = Pipeline([\n",
    "    ('vect', CountVectorizer()),  # Convert text to word count vectors\n",
    "    ('tfidf', TfidfTransformer()),  # Apply TF-IDF transformation\n",
    "    ('clf', MultinomialNB())  # Train Naïve Bayes classifier\n",
    "])\n",
    "\n",
    "# Train model\n",
    "text_clf.fit(X_train, y_train)\n",
    "\n",
    "# Predictions and accuracy\n",
    "y_pred = text_clf.predict(X_test)\n",
    "print(f\"Accuracy: {accuracy_score(y_test, y_pred):.2f}\")"
   ]
  },
  {
   "cell_type": "code",
   "execution_count": 37,
   "metadata": {},
   "outputs": [
    {
     "data": {
      "image/png": "[encoded data removed]",
      "text/plain": [
       "<Figure size 1500x500 with 3 Axes>"
      ]
     },
     "metadata": {},
     "output_type": "display_data"
    }
   ],
   "source": [
    "import numpy as np\n",
    "import matplotlib.pyplot as plt\n",
    "from sklearn.datasets import make_classification\n",
    "from sklearn.svm import SVC\n",
    "\n",
    "# Generate synthetic dataset\n",
    "X, y = make_classification(n_samples=100, n_features=2, n_informative=2, \n",
    "                           n_redundant=0, n_repeated=0, n_clusters_per_class=1, random_state=42)\n",
    "\n",
    "# Define different C values\n",
    "C_values = [0.01, 1, 100]\n",
    "fig, axes = plt.subplots(1, 3, figsize=(15, 5))\n",
    "\n",
    "for i, C in enumerate(C_values):\n",
    "    # Train SVM\n",
    "    model = SVC(kernel=\"linear\", C=C)\n",
    "    model.fit(X, y)\n",
    "\n",
    "    # Plot decision boundary\n",
    "    xx, yy = np.meshgrid(np.linspace(X[:, 0].min() - 1, X[:, 0].max() + 1, 100),\n",
    "                         np.linspace(X[:, 1].min() - 1, X[:, 1].max() + 1, 100))\n",
    "    Z = model.predict(np.c_[xx.ravel(), yy.ravel()])\n",
    "    Z = Z.reshape(xx.shape)\n",
    "\n",
    "    axes[i].contourf(xx, yy, Z, alpha=0.3)\n",
    "    axes[i].scatter(X[:, 0], X[:, 1], c=y, edgecolors=\"k\")\n",
    "    axes[i].set_title(f\"SVM with C={C}\")\n",
    "\n",
    "plt.show()\n"
   ]
  },
  {
   "cell_type": "code",
   "execution_count": 10,
   "metadata": {},
   "outputs": [
    {
     "name": "stdout",
     "output_type": "stream",
     "text": [
      "Accuracy: 0.78\n"
     ]
    }
   ],
   "source": [
    "\"\"\" 28) Write a Python program to train a Bernoulli Naïve Bayes classifier for binary classification on a dataset with binary features.  \n",
    "Answer-\n",
    "\"\"\"\n",
    "\n",
    "from sklearn.naive_bayes import BernoulliNB\n",
    "from sklearn.model_selection import train_test_split\n",
    "from sklearn.metrics import accuracy_score\n",
    "from sklearn.datasets import make_classification\n",
    "\n",
    "# Generate binary dataset\n",
    "X, y = make_classification(n_samples=1000, n_features=10, n_classes=2, n_informative=5, random_state=42)\n",
    "X = (X > 0).astype(int)  # Convert to binary features\n",
    "\n",
    "# Split dataset\n",
    "X_train, X_test, y_train, y_test = train_test_split(X, y, test_size=0.2, random_state=42)\n",
    "\n",
    "# Train Bernoulli Naïve Bayes model\n",
    "nb_model = BernoulliNB()\n",
    "nb_model.fit(X_train, y_train)\n",
    "\n",
    "# Predict and evaluate\n",
    "y_pred = nb_model.predict(X_test)\n",
    "accuracy = accuracy_score(y_test, y_pred)\n",
    "print(f\"Accuracy: {accuracy:.2f}\")\n"
   ]
  },
  {
   "cell_type": "code",
   "execution_count": 11,
   "metadata": {},
   "outputs": [
    {
     "name": "stdout",
     "output_type": "stream",
     "text": [
      "Accuracy without scaling: 0.81\n",
      "Accuracy with scaling: 1.00\n"
     ]
    }
   ],
   "source": [
    "\"\"\" 29) Write a Python program to apply feature scaling before training an SVM model and compare results with unscaled data.  \n",
    "Answer-\n",
    "\"\"\"\n",
    "\n",
    "from sklearn import datasets\n",
    "from sklearn.model_selection import train_test_split\n",
    "from sklearn.svm import SVC\n",
    "from sklearn.preprocessing import StandardScaler\n",
    "from sklearn.metrics import accuracy_score\n",
    "\n",
    "# Load dataset\n",
    "X, y = datasets.load_wine(return_X_y=True)\n",
    "\n",
    "# Split into train and test sets\n",
    "X_train, X_test, y_train, y_test = train_test_split(X, y, test_size=0.2, random_state=42)\n",
    "\n",
    "# Train SVM without scaling\n",
    "svm_clf = SVC(kernel=\"rbf\")\n",
    "svm_clf.fit(X_train, y_train)\n",
    "y_pred = svm_clf.predict(X_test)\n",
    "print(f\"Accuracy without scaling: {accuracy_score(y_test, y_pred):.2f}\")\n",
    "\n",
    "# Apply feature scaling\n",
    "scaler = StandardScaler()\n",
    "X_train_scaled = scaler.fit_transform(X_train)\n",
    "X_test_scaled = scaler.transform(X_test)\n",
    "\n",
    "# Train SVM with scaling\n",
    "svm_clf_scaled = SVC(kernel=\"rbf\")\n",
    "svm_clf_scaled.fit(X_train_scaled, y_train)\n",
    "y_pred_scaled = svm_clf_scaled.predict(X_test_scaled)\n",
    "print(f\"Accuracy with scaling: {accuracy_score(y_test, y_pred_scaled):.2f}\")\n"
   ]
  },
  {
   "cell_type": "code",
   "execution_count": 12,
   "metadata": {},
   "outputs": [
    {
     "name": "stdout",
     "output_type": "stream",
     "text": [
      "Accuracy without Laplace Smoothing: 0.81\n",
      "Accuracy with Laplace Smoothing: 0.81\n"
     ]
    }
   ],
   "source": [
    "\"\"\" 30) Write a Python program to train a Gaussian Naïve Bayes model and compare the predictions before and after Laplace Smoothing.  \n",
    "Answer-\n",
    "\"\"\"\n",
    "\n",
    "from sklearn.datasets import make_classification\n",
    "from sklearn.model_selection import train_test_split\n",
    "from sklearn.naive_bayes import GaussianNB\n",
    "from sklearn.metrics import accuracy_score\n",
    "\n",
    "# Generate synthetic dataset\n",
    "X, y = make_classification(n_samples=1000, n_features=10, random_state=42)\n",
    "\n",
    "# Split dataset\n",
    "X_train, X_test, y_train, y_test = train_test_split(X, y, test_size=0.2, random_state=42)\n",
    "\n",
    "# Train Gaussian Naïve Bayes without Laplace smoothing\n",
    "nb_model = GaussianNB(var_smoothing=1e-9)\n",
    "nb_model.fit(X_train, y_train)\n",
    "y_pred = nb_model.predict(X_test)\n",
    "print(f\"Accuracy without Laplace Smoothing: {accuracy_score(y_test, y_pred):.2f}\")\n",
    "\n",
    "# Train Gaussian Naïve Bayes with Laplace smoothing\n",
    "nb_model_smooth = GaussianNB(var_smoothing=1e-3)\n",
    "nb_model_smooth.fit(X_train, y_train)\n",
    "y_pred_smooth = nb_model_smooth.predict(X_test)\n",
    "print(f\"Accuracy with Laplace Smoothing: {accuracy_score(y_test, y_pred_smooth):.2f}\")\n"
   ]
  },
  {
   "cell_type": "code",
   "execution_count": 13,
   "metadata": {},
   "outputs": [
    {
     "name": "stdout",
     "output_type": "stream",
     "text": [
      "Best Parameters: {'C': 1, 'gamma': 'scale', 'kernel': 'linear'}\n"
     ]
    }
   ],
   "source": [
    "\"\"\" 31) Write a Python program to train an SVM Classifier and use GridSearchCV to tune the hyperparameters (C, gamma, kernel).  \n",
    "Answer-\n",
    "\"\"\"\n",
    "\n",
    "from sklearn.datasets import load_iris\n",
    "from sklearn.model_selection import train_test_split, GridSearchCV\n",
    "from sklearn.svm import SVC\n",
    "\n",
    "# Load dataset\n",
    "X, y = load_iris(return_X_y=True)\n",
    "\n",
    "# Split dataset\n",
    "X_train, X_test, y_train, y_test = train_test_split(X, y, test_size=0.2, random_state=42)\n",
    "\n",
    "# Define parameter grid\n",
    "param_grid = {'C': [0.1, 1, 10], 'gamma': ['scale', 'auto'], 'kernel': ['linear', 'rbf', 'poly']}\n",
    "\n",
    "# Perform Grid Search\n",
    "grid_search = GridSearchCV(SVC(), param_grid, cv=5)\n",
    "grid_search.fit(X_train, y_train)\n",
    "\n",
    "# Best parameters\n",
    "print(f\"Best Parameters: {grid_search.best_params_}\")\n"
   ]
  },
  {
   "cell_type": "code",
   "execution_count": 14,
   "metadata": {},
   "outputs": [
    {
     "name": "stdout",
     "output_type": "stream",
     "text": [
      "Accuracy without class weighting: 0.90\n",
      "Accuracy with class weighting: 0.90\n"
     ]
    }
   ],
   "source": [
    "\"\"\" 32) Write a Python program to train an SVM Classifier on an imbalanced dataset and apply class weighting to check if it improves accuracy.  \n",
    "Answer-\n",
    "\"\"\"\n",
    "\n",
    "from sklearn.datasets import make_classification\n",
    "from sklearn.model_selection import train_test_split\n",
    "from sklearn.svm import SVC\n",
    "from sklearn.metrics import accuracy_score\n",
    "\n",
    "# Generate imbalanced dataset\n",
    "X, y = make_classification(n_samples=1000, weights=[0.9, 0.1], random_state=42)\n",
    "\n",
    "# Split dataset\n",
    "X_train, X_test, y_train, y_test = train_test_split(X, y, test_size=0.2, random_state=42)\n",
    "\n",
    "# Train SVM without class weighting\n",
    "svm_clf = SVC()\n",
    "svm_clf.fit(X_train, y_train)\n",
    "y_pred = svm_clf.predict(X_test)\n",
    "print(f\"Accuracy without class weighting: {accuracy_score(y_test, y_pred):.2f}\")\n",
    "\n",
    "# Train SVM with class weighting\n",
    "svm_clf_weighted = SVC(class_weight='balanced')\n",
    "svm_clf_weighted.fit(X_train, y_train)\n",
    "y_pred_weighted = svm_clf_weighted.predict(X_test)\n",
    "print(f\"Accuracy with class weighting: {accuracy_score(y_test, y_pred_weighted):.2f}\")\n"
   ]
  },
  {
   "cell_type": "code",
   "execution_count": 15,
   "metadata": {},
   "outputs": [
    {
     "name": "stdout",
     "output_type": "stream",
     "text": [
      "Accuracy: 1.00\n"
     ]
    }
   ],
   "source": [
    "\"\"\" 33) Write a Python program to implement a Naïve Bayes classifier for spam detection using email data.  \n",
    "Answer-\n",
    "\"\"\"\n",
    "\n",
    "from sklearn.feature_extraction.text import CountVectorizer\n",
    "from sklearn.model_selection import train_test_split\n",
    "from sklearn.naive_bayes import MultinomialNB\n",
    "from sklearn.metrics import accuracy_score\n",
    "\n",
    "# Sample email dataset\n",
    "emails = [\"Win a free iPhone now!\", \"Meeting at 10 AM\", \"Limited offer! Claim your prize\", \"Project deadline extended\", \"Earn money fast!\"]\n",
    "labels = [1, 0, 1, 0, 1]  # 1 for spam, 0 for not spam\n",
    "\n",
    "# Convert text to numerical features\n",
    "vectorizer = CountVectorizer()\n",
    "X = vectorizer.fit_transform(emails)\n",
    "\n",
    "# Split dataset\n",
    "X_train, X_test, y_train, y_test = train_test_split(X, labels, test_size=0.2, random_state=42)\n",
    "\n",
    "# Train Naïve Bayes classifier\n",
    "nb_model = MultinomialNB()\n",
    "nb_model.fit(X_train, y_train)\n",
    "\n",
    "# Predict and evaluate\n",
    "y_pred = nb_model.predict(X_test)\n",
    "print(f\"Accuracy: {accuracy_score(y_test, y_pred):.2f}\")\n"
   ]
  },
  {
   "cell_type": "code",
   "execution_count": 16,
   "metadata": {},
   "outputs": [
    {
     "name": "stdout",
     "output_type": "stream",
     "text": [
      "SVM Accuracy: 0.81\n",
      "Naïve Bayes Accuracy: 1.00\n"
     ]
    }
   ],
   "source": [
    "\"\"\" 34) Write a Python program to train an SVM Classifier and a Naïve Bayes Classifier on the same dataset and compare their accuracy.  \n",
    "Answer-\n",
    "\"\"\"\n",
    "\n",
    "from sklearn import datasets\n",
    "from sklearn.model_selection import train_test_split\n",
    "from sklearn.svm import SVC\n",
    "from sklearn.naive_bayes import GaussianNB\n",
    "from sklearn.metrics import accuracy_score\n",
    "\n",
    "# Load dataset\n",
    "X, y = datasets.load_wine(return_X_y=True)\n",
    "\n",
    "# Split dataset\n",
    "X_train, X_test, y_train, y_test = train_test_split(X, y, test_size=0.2, random_state=42)\n",
    "\n",
    "# Train SVM classifier\n",
    "svm_clf = SVC(kernel=\"rbf\")\n",
    "svm_clf.fit(X_train, y_train)\n",
    "y_pred_svm = svm_clf.predict(X_test)\n",
    "\n",
    "# Train Naïve Bayes classifier\n",
    "nb_clf = GaussianNB()\n",
    "nb_clf.fit(X_train, y_train)\n",
    "y_pred_nb = nb_clf.predict(X_test)\n",
    "\n",
    "# Compare accuracy\n",
    "print(f\"SVM Accuracy: {accuracy_score(y_test, y_pred_svm):.2f}\")\n",
    "print(f\"Naïve Bayes Accuracy: {accuracy_score(y_test, y_pred_nb):.2f}\")\n"
   ]
  },
  {
   "cell_type": "code",
   "execution_count": 33,
   "metadata": {},
   "outputs": [
    {
     "name": "stdout",
     "output_type": "stream",
     "text": [
      "Accuracy without feature selection: 0.80\n",
      "Accuracy with feature selection: 0.80\n"
     ]
    }
   ],
   "source": [
    "\"\"\" 35) Write a Python program to perform feature selection before training a Naïve Bayes classifier and compare results.  \n",
    "Answer-\n",
    "\"\"\"\n",
    "\n",
    "from sklearn.feature_selection import SelectKBest, chi2\n",
    "from sklearn.model_selection import train_test_split\n",
    "from sklearn.naive_bayes import GaussianNB\n",
    "from sklearn.datasets import make_classification\n",
    "from sklearn.preprocessing import MinMaxScaler\n",
    "from sklearn.metrics import accuracy_score\n",
    "\n",
    "# Generate synthetic dataset\n",
    "X, y = make_classification(n_samples=1000, n_features=20, random_state=42)\n",
    "\n",
    "# Scale features to be non-negative (required for chi2 test)\n",
    "scaler = MinMaxScaler()\n",
    "X = scaler.fit_transform(X)\n",
    "\n",
    "# Split dataset\n",
    "X_train, X_test, y_train, y_test = train_test_split(X, y, test_size=0.2, random_state=42)\n",
    "\n",
    "# Train without feature selection\n",
    "nb = GaussianNB()\n",
    "nb.fit(X_train, y_train)\n",
    "y_pred = nb.predict(X_test)\n",
    "print(f\"Accuracy without feature selection: {accuracy_score(y_test, y_pred):.2f}\")\n",
    "\n",
    "# Apply feature selection\n",
    "selector = SelectKBest(chi2, k=10)\n",
    "X_train_selected = selector.fit_transform(X_train, y_train)\n",
    "X_test_selected = selector.transform(X_test)\n",
    "\n",
    "# Train with selected features\n",
    "nb.fit(X_train_selected, y_train)\n",
    "y_pred_selected = nb.predict(X_test_selected)\n",
    "print(f\"Accuracy with feature selection: {accuracy_score(y_test, y_pred_selected):.2f}\")\n"
   ]
  },
  {
   "cell_type": "code",
   "execution_count": 23,
   "metadata": {},
   "outputs": [
    {
     "name": "stdout",
     "output_type": "stream",
     "text": [
      "Accuracy with OvR: 1.00\n",
      "Accuracy with OvO: 1.00\n"
     ]
    }
   ],
   "source": [
    "\"\"\" 36) Write a Python program to train an SVM Classifier using One-vs-Rest (OvR) and One-vs-One (OvO) strategies on the Wine dataset and compare their accuracy.  \n",
    "Answer-\n",
    "\"\"\"\n",
    "\n",
    "from sklearn import datasets\n",
    "from sklearn.model_selection import train_test_split\n",
    "from sklearn.svm import SVC\n",
    "from sklearn.multiclass import OneVsRestClassifier, OneVsOneClassifier\n",
    "from sklearn.metrics import accuracy_score\n",
    "\n",
    "# Load dataset\n",
    "X, y = datasets.load_wine(return_X_y=True)\n",
    "\n",
    "# Split dataset\n",
    "X_train, X_test, y_train, y_test = train_test_split(X, y, test_size=0.2, random_state=42)\n",
    "\n",
    "# Train SVM with OvR\n",
    "svm_ovr = OneVsRestClassifier(SVC(kernel=\"linear\"))\n",
    "svm_ovr.fit(X_train, y_train)\n",
    "y_pred_ovr = svm_ovr.predict(X_test)\n",
    "print(f\"Accuracy with OvR: {accuracy_score(y_test, y_pred_ovr):.2f}\")\n",
    "\n",
    "# Train SVM with OvO\n",
    "svm_ovo = OneVsOneClassifier(SVC(kernel=\"linear\"))\n",
    "svm_ovo.fit(X_train, y_train)\n",
    "y_pred_ovo = svm_ovo.predict(X_test)\n",
    "print(f\"Accuracy with OvO: {accuracy_score(y_test, y_pred_ovo):.2f}\")\n"
   ]
  },
  {
   "cell_type": "code",
   "execution_count": 24,
   "metadata": {},
   "outputs": [
    {
     "name": "stdout",
     "output_type": "stream",
     "text": [
      "Accuracy with linear kernel: 0.96\n",
      "Accuracy with poly kernel: 0.95\n",
      "Accuracy with rbf kernel: 0.95\n"
     ]
    }
   ],
   "source": [
    "\"\"\" 37) Write a Python program to train an SVM Classifier using Linear, Polynomial, and RBF kernels on the Breast Cancer dataset and compare their accuracy.  \n",
    "Answer-\n",
    "\"\"\"\n",
    "\n",
    "from sklearn import datasets\n",
    "from sklearn.model_selection import train_test_split\n",
    "from sklearn.svm import SVC\n",
    "from sklearn.metrics import accuracy_score\n",
    "\n",
    "# Load dataset\n",
    "X, y = datasets.load_breast_cancer(return_X_y=True)\n",
    "\n",
    "# Split dataset\n",
    "X_train, X_test, y_train, y_test = train_test_split(X, y, test_size=0.2, random_state=42)\n",
    "\n",
    "# Define kernels\n",
    "kernels = [\"linear\", \"poly\", \"rbf\"]\n",
    "\n",
    "for kernel in kernels:\n",
    "    svm_clf = SVC(kernel=kernel)\n",
    "    svm_clf.fit(X_train, y_train)\n",
    "    y_pred = svm_clf.predict(X_test)\n",
    "    print(f\"Accuracy with {kernel} kernel: {accuracy_score(y_test, y_pred):.2f}\")\n"
   ]
  },
  {
   "cell_type": "code",
   "execution_count": 25,
   "metadata": {},
   "outputs": [
    {
     "name": "stdout",
     "output_type": "stream",
     "text": [
      "Average accuracy: 0.95\n"
     ]
    }
   ],
   "source": [
    "\"\"\" 38) Write a Python program to train an SVM Classifier using Stratified K-Fold Cross-Validation and compute the average accuracy.  \n",
    "Answer-\n",
    "\"\"\"\n",
    "\n",
    "from sklearn import datasets\n",
    "from sklearn.model_selection import StratifiedKFold, cross_val_score\n",
    "from sklearn.svm import SVC\n",
    "\n",
    "# Load dataset\n",
    "X, y = datasets.load_breast_cancer(return_X_y=True)\n",
    "\n",
    "# Define SVM classifier\n",
    "svm_clf = SVC(kernel=\"linear\")\n",
    "\n",
    "# Perform Stratified K-Fold Cross-Validation\n",
    "skf = StratifiedKFold(n_splits=5, shuffle=True, random_state=42)\n",
    "scores = cross_val_score(svm_clf, X, y, cv=skf)\n",
    "\n",
    "# Compute average accuracy\n",
    "print(f\"Average accuracy: {scores.mean():.2f}\")\n"
   ]
  },
  {
   "cell_type": "code",
   "execution_count": 26,
   "metadata": {},
   "outputs": [
    {
     "name": "stdout",
     "output_type": "stream",
     "text": [
      "Accuracy without priors: 0.80\n",
      "Accuracy with priors: 0.81\n"
     ]
    }
   ],
   "source": [
    "\"\"\" 39) Write a Python program to train a Naïve Bayes classifier using different prior probabilities and compare performance.  \n",
    "Answer-\n",
    "\"\"\"\n",
    "\n",
    "from sklearn.naive_bayes import GaussianNB\n",
    "from sklearn.model_selection import train_test_split\n",
    "from sklearn.datasets import make_classification\n",
    "from sklearn.metrics import accuracy_score\n",
    "\n",
    "# Generate dataset\n",
    "X, y = make_classification(n_samples=1000, random_state=42)\n",
    "\n",
    "# Split dataset\n",
    "X_train, X_test, y_train, y_test = train_test_split(X, y, test_size=0.2, random_state=42)\n",
    "\n",
    "# Train without priors\n",
    "nb_default = GaussianNB()\n",
    "nb_default.fit(X_train, y_train)\n",
    "y_pred_default = nb_default.predict(X_test)\n",
    "print(f\"Accuracy without priors: {accuracy_score(y_test, y_pred_default):.2f}\")\n",
    "\n",
    "# Train with priors\n",
    "nb_prior = GaussianNB(priors=[0.7, 0.3])\n",
    "nb_prior.fit(X_train, y_train)\n",
    "y_pred_prior = nb_prior.predict(X_test)\n",
    "print(f\"Accuracy with priors: {accuracy_score(y_test, y_pred_prior):.2f}\")\n"
   ]
  },
  {
   "cell_type": "code",
   "execution_count": 27,
   "metadata": {},
   "outputs": [
    {
     "name": "stdout",
     "output_type": "stream",
     "text": [
      "Accuracy after RFE: 0.97\n"
     ]
    }
   ],
   "source": [
    "\"\"\" 40) Write a Python program to perform Recursive Feature Elimination (RFE) before training an SVM Classifier and compare accuracy.  \n",
    "Answer-\n",
    "\"\"\"\n",
    "\n",
    "from sklearn.datasets import load_wine\n",
    "from sklearn.model_selection import train_test_split\n",
    "from sklearn.svm import SVC\n",
    "from sklearn.feature_selection import RFE\n",
    "from sklearn.metrics import accuracy_score\n",
    "\n",
    "# Load dataset\n",
    "X, y = load_wine(return_X_y=True)\n",
    "\n",
    "# Split dataset\n",
    "X_train, X_test, y_train, y_test = train_test_split(X, y, test_size=0.2, random_state=42)\n",
    "\n",
    "# Apply Recursive Feature Elimination (RFE)\n",
    "svm_clf = SVC(kernel=\"linear\")\n",
    "selector = RFE(svm_clf, n_features_to_select=10)\n",
    "selector.fit(X_train, y_train)\n",
    "\n",
    "# Train SVM with selected features\n",
    "X_train_selected = selector.transform(X_train)\n",
    "X_test_selected = selector.transform(X_test)\n",
    "svm_clf.fit(X_train_selected, y_train)\n",
    "y_pred = svm_clf.predict(X_test_selected)\n",
    "\n",
    "print(f\"Accuracy after RFE: {accuracy_score(y_test, y_pred):.2f}\")\n"
   ]
  },
  {
   "cell_type": "code",
   "execution_count": 28,
   "metadata": {},
   "outputs": [
    {
     "name": "stdout",
     "output_type": "stream",
     "text": [
      "Precision: 0.90\n",
      "Recall: 0.80\n",
      "F1-Score: 0.85\n"
     ]
    }
   ],
   "source": [
    "\"\"\" 41) Write a Python program to train an SVM Classifier and evaluate its performance using Precision, Recall, and F1-Score instead of accuracy.  \n",
    "Answer-\n",
    "\"\"\"\n",
    "\n",
    "from sklearn.datasets import make_classification\n",
    "from sklearn.model_selection import train_test_split\n",
    "from sklearn.svm import SVC\n",
    "from sklearn.metrics import precision_score, recall_score, f1_score\n",
    "\n",
    "# Generate dataset\n",
    "X, y = make_classification(n_samples=1000, random_state=42)\n",
    "\n",
    "# Split dataset\n",
    "X_train, X_test, y_train, y_test = train_test_split(X, y, test_size=0.2, random_state=42)\n",
    "\n",
    "# Train SVM\n",
    "svm_clf = SVC()\n",
    "svm_clf.fit(X_train, y_train)\n",
    "\n",
    "# Predict\n",
    "y_pred = svm_clf.predict(X_test)\n",
    "\n",
    "# Compute metrics\n",
    "precision = precision_score(y_test, y_pred)\n",
    "recall = recall_score(y_test, y_pred)\n",
    "f1 = f1_score(y_test, y_pred)\n",
    "\n",
    "print(f\"Precision: {precision:.2f}\")\n",
    "print(f\"Recall: {recall:.2f}\")\n",
    "print(f\"F1-Score: {f1:.2f}\")\n"
   ]
  },
  {
   "cell_type": "code",
   "execution_count": 32,
   "metadata": {},
   "outputs": [
    {
     "name": "stdout",
     "output_type": "stream",
     "text": [
      "Log Loss: 0.60\n"
     ]
    }
   ],
   "source": [
    "\"\"\" 42) Write a Python program to train a Naïve Bayes Classifier and evaluate its performance using Log Loss (Cross-Entropy Loss).  \n",
    "Answer-\n",
    "\"\"\"\n",
    "\n",
    "from sklearn.naive_bayes import GaussianNB\n",
    "from sklearn.model_selection import train_test_split\n",
    "from sklearn.datasets import make_classification\n",
    "from sklearn.metrics import log_loss\n",
    "\n",
    "# Generate synthetic dataset\n",
    "X, y = make_classification(n_samples=1000, n_features=20, random_state=42)\n",
    "\n",
    "# Split dataset\n",
    "X_train, X_test, y_train, y_test = train_test_split(X, y, test_size=0.2, random_state=42)\n",
    "\n",
    "# Train Naïve Bayes Classifier\n",
    "nb = GaussianNB()\n",
    "nb.fit(X_train, y_train)\n",
    "y_prob = nb.predict_proba(X_test)\n",
    "\n",
    "# Compute Log Loss\n",
    "print(f\"Log Loss: {log_loss(y_test, y_prob):.2f}\")\n"
   ]
  },
  {
   "cell_type": "code",
   "execution_count": 30,
   "metadata": {},
   "outputs": [
    {
     "data": {
      "image/png": "[encoded data removed]",
      "text/plain": [
       "<Figure size 640x480 with 2 Axes>"
      ]
     },
     "metadata": {},
     "output_type": "display_data"
    }
   ],
   "source": [
    "\"\"\" 43) Write a Python program to train an SVM Classifier and visualize the Confusion Matrix using seaborn.  \n",
    "Answer-\n",
    "\"\"\"\n",
    "\n",
    "import seaborn as sns\n",
    "import matplotlib.pyplot as plt\n",
    "from sklearn.svm import SVC\n",
    "from sklearn.model_selection import train_test_split\n",
    "from sklearn.datasets import load_breast_cancer\n",
    "from sklearn.metrics import confusion_matrix\n",
    "\n",
    "# Load dataset\n",
    "X, y = load_breast_cancer(return_X_y=True)\n",
    "\n",
    "# Split dataset\n",
    "X_train, X_test, y_train, y_test = train_test_split(X, y, test_size=0.2, random_state=42)\n",
    "\n",
    "# Train SVM Classifier\n",
    "svm_clf = SVC(kernel=\"linear\")\n",
    "svm_clf.fit(X_train, y_train)\n",
    "y_pred = svm_clf.predict(X_test)\n",
    "\n",
    "# Compute Confusion Matrix\n",
    "cm = confusion_matrix(y_test, y_pred)\n",
    "\n",
    "# Plot using seaborn\n",
    "sns.heatmap(cm, annot=True, fmt=\"d\", cmap=\"Blues\")\n",
    "plt.xlabel(\"Predicted\")\n",
    "plt.ylabel(\"Actual\")\n",
    "plt.title(\"Confusion Matrix\")\n",
    "plt.show()\n"
   ]
  },
  {
   "cell_type": "code",
   "execution_count": 31,
   "metadata": {},
   "outputs": [
    {
     "name": "stdout",
     "output_type": "stream",
     "text": [
      "Mean Absolute Error: 89.71\n"
     ]
    }
   ],
   "source": [
    "\"\"\" 44) Write a Python program to train an SVM Regressor (SVR) and evaluate its performance using Mean Absolute Error (MAE) instead of MSE.  \n",
    "Answer-\n",
    "\"\"\"\n",
    "\n",
    "from sklearn.svm import SVR\n",
    "from sklearn.model_selection import train_test_split\n",
    "from sklearn.datasets import make_regression\n",
    "from sklearn.metrics import mean_absolute_error\n",
    "\n",
    "# Generate synthetic regression dataset\n",
    "X, y = make_regression(n_samples=1000, n_features=10, noise=0.1, random_state=42)\n",
    "\n",
    "# Split dataset\n",
    "X_train, X_test, y_train, y_test = train_test_split(X, y, test_size=0.2, random_state=42)\n",
    "\n",
    "# Train SVR model\n",
    "svr = SVR(kernel=\"rbf\")\n",
    "svr.fit(X_train, y_train)\n",
    "y_pred = svr.predict(X_test)\n",
    "\n",
    "# Compute Mean Absolute Error\n",
    "print(f\"Mean Absolute Error: {mean_absolute_error(y_test, y_pred):.2f}\")\n"
   ]
  },
  {
   "cell_type": "code",
   "execution_count": 17,
   "metadata": {},
   "outputs": [
    {
     "name": "stdout",
     "output_type": "stream",
     "text": [
      "ROC-AUC Score: 0.89\n"
     ]
    }
   ],
   "source": [
    "\"\"\" 45) Write a Python program to train a Naïve Bayes classifier and evaluate its performance using the ROC-AUC score.  \n",
    "Answer-\n",
    "\"\"\"\n",
    "\n",
    "from sklearn.datasets import make_classification\n",
    "from sklearn.model_selection import train_test_split\n",
    "from sklearn.naive_bayes import GaussianNB\n",
    "from sklearn.metrics import roc_auc_score\n",
    "\n",
    "# Generate dataset\n",
    "X, y = make_classification(n_samples=1000, n_features=10, random_state=42)\n",
    "\n",
    "# Split dataset\n",
    "X_train, X_test, y_train, y_test = train_test_split(X, y, test_size=0.2, random_state=42)\n",
    "\n",
    "# Train Naïve Bayes classifier\n",
    "nb_model = GaussianNB()\n",
    "nb_model.fit(X_train, y_train)\n",
    "\n",
    "# Predict probabilities and compute ROC-AUC\n",
    "y_probs = nb_model.predict_proba(X_test)[:, 1]\n",
    "roc_auc = roc_auc_score(y_test, y_probs)\n",
    "print(f\"ROC-AUC Score: {roc_auc:.2f}\")\n"
   ]
  },
  {
   "cell_type": "code",
   "execution_count": 18,
   "metadata": {},
   "outputs": [
    {
     "data": {
      "image/png": "[encoded data removed]",
      "text/plain": [
       "<Figure size 640x480 with 1 Axes>"
      ]
     },
     "metadata": {},
     "output_type": "display_data"
    }
   ],
   "source": [
    "\"\"\" 46) Write a Python program to train an SVM Classifier and visualize the Precision-Recall Curve.  \n",
    "Answer-\n",
    "\"\"\"\n",
    "\n",
    "from sklearn.datasets import make_classification\n",
    "from sklearn.model_selection import train_test_split\n",
    "from sklearn.svm import SVC\n",
    "from sklearn.metrics import precision_recall_curve\n",
    "import matplotlib.pyplot as plt\n",
    "\n",
    "# Generate dataset\n",
    "X, y = make_classification(n_samples=1000, n_features=10, random_state=42)\n",
    "\n",
    "# Split dataset\n",
    "X_train, X_test, y_train, y_test = train_test_split(X, y, test_size=0.2, random_state=42)\n",
    "\n",
    "# Train SVM classifier\n",
    "svm_clf = SVC(probability=True)\n",
    "svm_clf.fit(X_train, y_train)\n",
    "\n",
    "# Get probabilities\n",
    "y_probs = svm_clf.predict_proba(X_test)[:, 1]\n",
    "\n",
    "# Compute Precision-Recall curve\n",
    "precision, recall, _ = precision_recall_curve(y_test, y_probs)\n",
    "\n",
    "# Plot curve\n",
    "plt.plot(recall, precision, marker='.')\n",
    "plt.xlabel('Recall')\n",
    "plt.ylabel('Precision')\n",
    "plt.title('Precision-Recall Curve')\n",
    "plt.show()\n"
   ]
  },
  {
   "cell_type": "code",
   "execution_count": null,
   "metadata": {},
   "outputs": [],
   "source": []
  }
 ],
 "metadata": {
  "kernelspec": {
   "display_name": "Python 3",
   "language": "python",
   "name": "python3"
  },
  "language_info": {
   "codemirror_mode": {
    "name": "ipython",
    "version": 3
   },
   "file_extension": ".py",
   "mimetype": "text/x-python",
   "name": "python",
   "nbconvert_exporter": "python",
   "pygments_lexer": "ipython3",
   "version": "3.12.6"
  }
 },
 "nbformat": 4,
 "nbformat_minor": 2
}
