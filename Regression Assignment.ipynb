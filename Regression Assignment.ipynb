{
 "cells": [
  {
   "cell_type": "code",
   "execution_count": null,
   "metadata": {},
   "outputs": [],
   "source": [
    "\"\"\"\n",
    "Q1) What is Simple Linear Regression?\n",
    "Answer-\n",
    "    Simple Linear Regression is a statistical method used to examine the relationship between two variables: one independent variable \n",
    "    (predictor) and one dependent variable (response). It aims to model this relationship by fitting a straight line to the data, such\n",
    "    that the line predicts the dependent variable as accurately as possible based on the independent variable.\n",
    "\n",
    "    Key Concepts:\n",
    "    1. Independent Variable (X): The variable used to predict or explain changes (e.g., hours studied).\n",
    "    2. Dependent Variable (Y): The outcome or variable being predicted (e.g., test scores).\n",
    "    3. Linear Relationship: Simple linear regression assumes that the relationship between the independent and dependent variables can\n",
    "       be represented by a straight line.\n",
    "\"\"\""
   ]
  },
  {
   "cell_type": "code",
   "execution_count": null,
   "metadata": {},
   "outputs": [],
   "source": [
    "\"\"\"\n",
    "Q2) What are the key assumptions of Simple Linear Regression\n",
    "Answer-\n",
    "    Assumptions of Simple Linear Regression:\n",
    "    1. Linearity: The relationship between 𝑋 and Y is linear.\n",
    "    2. Independence: The observations are independent of each other.\n",
    "    3. Homoscedasticity: The variance of errors is constant across all levels of X.\n",
    "    4. Normality: The residuals (errors) are normally distributed.\n",
    "\n",
    "\"\"\""
   ]
  },
  {
   "cell_type": "code",
   "execution_count": null,
   "metadata": {},
   "outputs": [],
   "source": [
    "\"\"\"\n",
    "3) What does the coefficient m represent in the equation Y=mX+c\n",
    "Answer-\n",
    "    In the equation Y=mX+c, the coefficient m is the slope of the line. It tells us how much Y changes when X increases by 1 unit.\n",
    "\n",
    "If m>0: Y increases as X increases (positive relationship).\n",
    "If m<0: Y decreases as X increases (negative relationship).\n",
    "If m=0: Y stays the same, no matter the value of X.\n",
    "\"\"\""
   ]
  },
  {
   "cell_type": "code",
   "execution_count": null,
   "metadata": {},
   "outputs": [],
   "source": [
    "\"\"\"\n",
    "4) What does the intercept c represent in the equation Y=mX+c\n",
    "Answer-\n",
    "    In the equation Y=mX+c, the intercept c represents the value of Y when X=0.\n",
    "    It shows where the line crosses the Y-axis on a graph.\n",
    "\"\"\""
   ]
  },
  {
   "cell_type": "code",
   "execution_count": null,
   "metadata": {},
   "outputs": [],
   "source": [
    "\"\"\"\n",
    "5) How do we calculate the slope m in Simple Linear Regression\n",
    "Answer-\n",
    "    In Simple Linear Regression, the slope m is calculated using the formula: \n",
    "    m = covariance of x and y / variance of x\n",
    "\n",
    "    Steps to Calculate:\n",
    "    1. Find the mean of the independent variable X and the mean of the dependent variable Y.\n",
    "    2. Compute the difference between each data point and the mean \n",
    "    3. Multiply the differences for each data point and sum them up\n",
    "    4. Calculate the squared differences of Xi - xbar , then sum them up\n",
    "    5. Divide the result from Step 3 by the result from Step 4 to get m.\n",
    "\n",
    "\"\"\""
   ]
  },
  {
   "cell_type": "code",
   "execution_count": null,
   "metadata": {},
   "outputs": [],
   "source": [
    "\"\"\"\n",
    "6) What is the purpose of the least squares method in Simple Linear Regression\n",
    "Answer-\n",
    "    The purpose of the least squares method in Simple Linear Regression is to find the best-fitting line through the data points by \n",
    "    minimizing the sum of the squared differences (errors) between the actual values and the predicted values.\n",
    "    Squaring the errors ensures all differences are positive, avoiding cancellation of positive and negative errors.\n",
    "    It gives more weight to larger errors, so the line better fits the data.\n",
    "\n",
    "\"\"\""
   ]
  },
  {
   "cell_type": "code",
   "execution_count": null,
   "metadata": {},
   "outputs": [],
   "source": [
    "\"\"\"\n",
    "7) How is the coefficient of determination (R²) interpreted in Simple Linear Regression\n",
    "Answer-\n",
    "    The coefficient of determination (R²) in Simple Linear Regression measures how well the independent variable (X) explains the \n",
    "    variation in the dependent variable (Y). It tells us the proportion of the total variation in Y that is explained by the \n",
    "    regression line.\n",
    "    Interpretation:\n",
    "    1. R2 =1: The regression line perfectly predicts Y from X (100% of the variation in Y is explained).\n",
    "    2. R2 =0: The regression line does not explain any variation in Y (the predictions are no better than using the mean of Y).\n",
    "    3. 0 < R2 < 1: Indicates the percentage of variation explained by the model. For example:\n",
    "    R2 = 0.75: The model explains 75% of the variation in Y.\n",
    "\n",
    "\"\"\""
   ]
  },
  {
   "cell_type": "code",
   "execution_count": null,
   "metadata": {},
   "outputs": [],
   "source": [
    "\"\"\"\n",
    "8) What is Multiple Linear Regression\n",
    "Answer-\n",
    "    Multiple Linear Regression (MLR) is a statistical technique used to model the relationship between one dependent variable (Y) and \n",
    "    two or more independent variables(x1,x2,x3...). It extends simple linear regression by considering multiple factors to predict or \n",
    "    explain the dependent variable.\n",
    "\n",
    "\"\"\""
   ]
  },
  {
   "cell_type": "code",
   "execution_count": null,
   "metadata": {},
   "outputs": [],
   "source": [
    "\"\"\"\n",
    "9) What is the main difference between Simple and Multiple Linear Regression\n",
    "Answer-\n",
    "    The main difference between Simple Linear Regression and Multiple Linear Regression is the number of independent variables:\n",
    "    1. Simple Linear Regression: Uses one independent variable to predict the dependent variable.\n",
    "    Example: Predicting test scores based on study hours.\n",
    "\n",
    "    2. Multiple Linear Regression: Uses two or more independent variables to predict the dependent variable.\n",
    "    Example: Predicting house prices based on size, number of bedrooms, and age of the house.\n",
    "\n",
    "\"\"\""
   ]
  },
  {
   "cell_type": "code",
   "execution_count": null,
   "metadata": {},
   "outputs": [],
   "source": [
    "\"\"\"\n",
    "10) What are the key assumptions of Multiple Linear Regression\n",
    "Answer-\n",
    "    The key assumptions of Multiple Linear Regression are:\n",
    "\n",
    "    Linear Relationship:\n",
    "    There must be a linear relationship between the dependent variable (Y) and each independent variable (X).\n",
    "\n",
    "    No Multicollinearity:\n",
    "    The independent variables should not be highly correlated with each other.\n",
    "\n",
    "    Homoscedasticity:\n",
    "    The variance of the errors (residuals) should remain constant across all levels of X.\n",
    "\n",
    "    Independence of Errors:\n",
    "    The residuals (errors) should be independent of each other.\n",
    "\n",
    "    Normality of Errors:\n",
    "    The residuals should follow a normal distribution.\n",
    "\n",
    "    No Omitted Variables:\n",
    "    The model should include all relevant variables that influence Y.\n",
    "\n",
    "\"\"\""
   ]
  },
  {
   "cell_type": "code",
   "execution_count": null,
   "metadata": {},
   "outputs": [],
   "source": [
    "\"\"\"\n",
    "11) What is heteroscedasticity, and how does it affect the results of a Multiple Linear Regression model.\n",
    "Answer-\n",
    "    Heteroscedasticity occurs when the variance of the residuals (errors) in a regression model is not constant across all levels of the\n",
    "    independent variable(s). In other words, the spread of the residuals changes as the value of the predictors (X) changes.\n",
    "\n",
    "\"\"\""
   ]
  },
  {
   "cell_type": "code",
   "execution_count": null,
   "metadata": {},
   "outputs": [],
   "source": [
    "\"\"\"\n",
    "12) How can you improve a Multiple Linear Regression model with high multicollinearity\n",
    "Answer-\n",
    "    1. Remove highly correlated variables.\n",
    "    2. Combine correlated variables.\n",
    "    3. Use Ridge or Lasso regression.\n",
    "    4. Apply PCA (Principal Component Analysis).\n",
    "    5. Collect more data.\n",
    "\n",
    "\"\"\""
   ]
  },
  {
   "cell_type": "code",
   "execution_count": null,
   "metadata": {},
   "outputs": [],
   "source": [
    "\"\"\"\n",
    "Q13) What are some common techniques for transforming categorical variables for use in regression models\n",
    "Answer-\n",
    "    One-Hot Encoding:\n",
    "    Converts categories into binary columns (e.g., \"Red,\" \"Blue\" becomes separate 0/1 columns).\n",
    "\n",
    "    Label Encoding:\n",
    "    Assigns numeric values to categories (e.g., \"Red\" = 1, \"Blue\" = 2).\n",
    "\n",
    "    Dummy Encoding:\n",
    "    Similar to one-hot encoding but drops one column to avoid multicollinearity.\n",
    "\n",
    "    Ordinal Encoding:\n",
    "    Assigns numeric values based on category order (e.g., \"Low\" = 1, \"Medium\" = 2, \"High\" = 3).\n",
    "\n",
    "    Frequency/Count Encoding:\n",
    "    Uses the frequency of each category as the value.\n",
    "\n",
    "    Target Encoding:\n",
    "    Replaces categories with the mean of the target variable for each category.\n",
    "\n",
    "\"\"\""
   ]
  },
  {
   "cell_type": "code",
   "execution_count": null,
   "metadata": {},
   "outputs": [],
   "source": [
    "\"\"\"\n",
    "Q14) What is the role of interaction terms in Multiple Linear Regression\n",
    "Answer-\n",
    "    Interaction terms in Multiple Linear Regression show how two or more independent variables interact with each other to affect the \n",
    "    dependent variable.\n",
    "\n",
    "    Role:\n",
    "    Capture combined effect: They help model situations where the effect of one predictor on the dependent variable depends on the value\n",
    "    of another predictor.\n",
    "    Improve model accuracy: Adding interaction terms can improve the model by making it more flexible and capturing complex \n",
    "    relationships between variables.\n",
    "\n",
    "\"\"\""
   ]
  },
  {
   "cell_type": "code",
   "execution_count": null,
   "metadata": {},
   "outputs": [],
   "source": [
    "\"\"\"\n",
    "Q15) How can the interpretation of intercept differ between Simple and Multiple Linear Regression\n",
    "Answer-\n",
    "    Interpretation of Intercept:\n",
    "    Simple Linear Regression:\n",
    "    The intercept (c) represents the value of the dependent variable (Y) when the independent variable (X) is zero.\n",
    "    Example: In a model predicting weight based on height, the intercept would represent the predicted weight when height is 0 \n",
    "    (though this might not be realistic).\n",
    "\n",
    "    Multiple Linear Regression:\n",
    "    The intercept (β0) represents the value of the dependent variable (Y) when all independent variables are zero. It is interpreted \n",
    "    in the context of all other variables being held constant.\n",
    "    Example: In a model predicting house price based on size, number of bedrooms, and age, the intercept would represent the predicted\n",
    "    price when all those factors are zero, which might not always make practical sense but is useful for modeling.\n",
    "\n",
    "\"\"\""
   ]
  },
  {
   "cell_type": "code",
   "execution_count": null,
   "metadata": {},
   "outputs": [],
   "source": [
    "\"\"\"\n",
    "Q16) What is the significance of the slope in regression analysis, and how does it affect predictions\n",
    "Answer-\n",
    "    The slope in regression analysis represents how much the dependent variable (Y) changes for each one-unit change in the independent \n",
    "    variable (X).\n",
    "\n",
    "    Significance:\n",
    "    In Simple Linear Regression, the slope (m) tells you how steep the line is.\n",
    "    In Multiple Linear Regression, the slope (β1,β2,…) shows the effect of each predictor on the outcome, assuming other variables are \n",
    "    constant.\n",
    "    \n",
    "    Effect on Predictions:\n",
    "    A positive slope means as X increases, Y increases.\n",
    "    A negative slope means as X increases, Y decreases.\n",
    "\n",
    "\"\"\""
   ]
  },
  {
   "cell_type": "code",
   "execution_count": null,
   "metadata": {},
   "outputs": [],
   "source": [
    "\"\"\"\n",
    "Q17) How does the intercept in a regression model provide context for the relationship between variables\n",
    "Answer-\n",
    "    The intercept in a regression model provides the value of the dependent variable (Y) when all independent variables (X) are zero. \n",
    "    It helps set the starting point for the relationship.\n",
    "\n",
    "    Context:\n",
    "    In Simple Linear Regression: It represents the value of Y when X=0.\n",
    "    In Multiple Linear Regression: It represents Y when all independent variables are zero, giving a baseline value for Y.\n",
    "    While the intercept may not always be realistic (e.g., when (X = 0\\ is not practical), it helps in understanding the overall\n",
    "    relationship between variables.\n",
    "\n",
    "\"\"\""
   ]
  },
  {
   "cell_type": "code",
   "execution_count": null,
   "metadata": {},
   "outputs": [],
   "source": [
    "\"\"\"\n",
    "Q18) What are the limitations of using R² as a sole measure of model performance\n",
    "Answer-\n",
    "    Doesn't capture model complexity:\n",
    "    R² can be high even if the model is too complex, leading to overfitting.\n",
    "\n",
    "    Insensitive to outliers:\n",
    "    R² can be inflated by extreme outliers, giving a false sense of model accuracy.\n",
    "\n",
    "    Doesn't account for non-linear relationships:\n",
    "    R² assumes a linear relationship between variables, so it may not reflect performance well if the relationship is non-linear.\n",
    "\n",
    "    No information on predictive accuracy:\n",
    "    A high R² doesn’t guarantee that the model will perform well on new, unseen data.\n",
    "\n",
    "    Cannot distinguish between models with similar R²:\n",
    "    Two models with the same R² might perform very differently, depending on other factors like simplicity and predictive power.\n",
    "\n",
    "\"\"\""
   ]
  },
  {
   "cell_type": "code",
   "execution_count": null,
   "metadata": {},
   "outputs": [],
   "source": [
    "\"\"\"\n",
    "Q19) How would you interpret a large standard error for a regression coefficient\n",
    "Answer-\n",
    "    A large standard error for a regression coefficient indicates that the estimate of the coefficient is uncertain or highly variable.\n",
    "    It suggests that the relationship between the independent variable and the dependent variable may not be very strong or consistent.\n",
    "\n",
    "    Interpretation:\n",
    "    1. High uncertainty: The coefficient is less reliable for making predictions or drawing conclusions.\n",
    "    2. Weak relationship: It may indicate that the predictor does not strongly influence the outcome variable.\n",
    "    3. Statistical significance: A large standard error can lead to wider confidence intervals and potentially higher p-values, meaning \n",
    "       the predictor might not be statistically significant.\n",
    "\n",
    "\"\"\""
   ]
  },
  {
   "cell_type": "code",
   "execution_count": null,
   "metadata": {},
   "outputs": [],
   "source": [
    "\"\"\"\n",
    "Q20) How can heteroscedasticity be identified in residual plots, and why is it important to address it\n",
    "Answer-\n",
    "    Identifying Heteroscedasticity in Residual Plots:\n",
    "    Residual plots are used to check for heteroscedasticity. If the residuals (errors) fan out or form a pattern as the fitted values \n",
    "    increase, this suggests heteroscedasticity.\n",
    "    A good residual plot should show a random scatter of residuals with no obvious patterns (like a \"cloud\" shape). If you see a funnel \n",
    "    shape or increasing spread of residuals, it indicates heteroscedasticity.\n",
    "    \n",
    "    Importance of Addressing Heteroscedasticity:\n",
    "    Unreliable estimates: It leads to biased standard errors, which affect hypothesis testing (confidence intervals and p-values may be \n",
    "    incorrect).\n",
    "    Model inefficiency: The model may no longer be the most efficient in terms of predicting outcomes.\n",
    "\n",
    "\"\"\""
   ]
  },
  {
   "cell_type": "code",
   "execution_count": null,
   "metadata": {},
   "outputs": [],
   "source": [
    "\"\"\"\n",
    "Q21) What does it mean if a Multiple Linear Regression model has a high R² but low adjusted R²\n",
    "Answer-\n",
    "    If a Multiple Linear Regression model has a high R² but a low adjusted R², it means:\n",
    "\n",
    "    High R²: The model explains a large proportion of the variance in the dependent variable, but it may be artificially high due to the\n",
    "    inclusion of many predictors, even if they don't contribute much to explaining Y.\n",
    "\n",
    "    Low Adjusted R²: Adjusted R² accounts for the number of predictors and penalizes the model for adding irrelevant predictors. If \n",
    "    adjusted R² is much lower than R², it suggests that some variables are adding noise to the model rather than improving its performance.\n",
    "\n",
    "    Interpretation:\n",
    "    The model may be overfitting, meaning it’s too complex and includes unnecessary variables.\n",
    "    Adding more predictors without improving the model's true explanatory power can inflate R² while reducing adjusted R².\n",
    "\n",
    "\"\"\""
   ]
  },
  {
   "cell_type": "code",
   "execution_count": null,
   "metadata": {},
   "outputs": [],
   "source": [
    "\"\"\"\n",
    "Q22) Why is it important to scale variables in Multiple Linear Regression\n",
    "Answer-\n",
    "    Improves Model Convergence:\n",
    "    Scaling ensures that variables with larger values don't dominate the learning process, helping the algorithm converge faster.\n",
    "\n",
    "    Equalizes Influence:\n",
    "    Without scaling, variables with larger ranges or units (e.g., income vs. age) may unfairly influence the model.\n",
    "\n",
    "    Interpretation of Coefficients:\n",
    "    When variables are on the same scale, it becomes easier to compare the effect of each predictor on the dependent variable.\n",
    "\n",
    "    Regularization:\n",
    "    If you're using regularization (like Ridge or Lasso), scaling is essential for it to work correctly, as regularization penalizes large coefficients.\n",
    "\"\"\""
   ]
  },
  {
   "cell_type": "code",
   "execution_count": null,
   "metadata": {},
   "outputs": [],
   "source": [
    "\"\"\"\n",
    "Q23) What is polynomial regression\n",
    "Answer-\n",
    "    Polynomial Regression is a type of regression where the relationship between the independent variable (x) and the dependent variable\n",
    "    (Y) is modeled as an nth-degree polynomial, instead of a straight line.\n",
    "    Captures non-linear trends in the data.\n",
    "    Helps fit curved relationships that linear regression can't model.\n",
    "\n",
    "\"\"\""
   ]
  },
  {
   "cell_type": "code",
   "execution_count": null,
   "metadata": {},
   "outputs": [],
   "source": [
    "\"\"\"\n",
    "Q24) How does polynomial regression differ from linear regression\n",
    "Answer-\n",
    "    Key Differences between Polynomial Regression and Linear Regression:\n",
    "    Model Form:\n",
    "    Linear Regression: Models a straight-line relationship \n",
    "    Polynomial Regression: Models a curved relationship using polynomial terms \n",
    "\n",
    "    Flexibility:\n",
    "    Linear Regression: Assumes a constant slope between X and Y.\n",
    "    Polynomial Regression: Allows for changing slopes at different points, offering more flexibility to fit non-linear relationships.\n",
    "\n",
    "    Use Case:\n",
    "    Linear Regression: Best when the relationship between variables is roughly linear.\n",
    "    Polynomial Regression: Used when the relationship is non-linear and requires more complexity (e.g., U-shaped curves).\n",
    "\n",
    "\"\"\""
   ]
  },
  {
   "cell_type": "code",
   "execution_count": null,
   "metadata": {},
   "outputs": [],
   "source": [
    "\"\"\"\n",
    "Q25) When is polynomial regression used\n",
    "Answer-\n",
    "    Polynomial Regression is used when:\n",
    "    1. The relationship between variables is non-linear:\n",
    "       When the data shows a curved trend that a straight line can't capture, polynomial regression allows for fitting a curve.\n",
    "\n",
    "    2. Modeling U-shaped or other complex patterns:\n",
    "       It is useful when the data exhibits relationships like quadratic (U-shaped) or higher-order curves.\n",
    "\n",
    "    3. Improving model flexibility:\n",
    "       When you need more flexibility to fit data that doesn't follow a simple linear trend.\n",
    "\n",
    "    Example Use Cases:\n",
    "    Predicting growth rates that accelerate or decelerate over time.\n",
    "    Modeling stock prices or economic indicators that follow non-linear patterns.\n",
    "\n",
    "\"\"\""
   ]
  },
  {
   "cell_type": "code",
   "execution_count": null,
   "metadata": {},
   "outputs": [],
   "source": [
    "\"\"\"\n",
    "Q26) What is the general equation for polynomial regression\n",
    "Answer-\n",
    "\"\"\""
   ]
  },
  {
   "attachments": {
    "image.png": {
     "image/png": "[encoded data removed]"
    }
   },
   "cell_type": "markdown",
   "metadata": {},
   "source": [
    "![image.png](attachment:image.png)"
   ]
  },
  {
   "cell_type": "code",
   "execution_count": null,
   "metadata": {},
   "outputs": [],
   "source": [
    "\"\"\"\n",
    "27) Can polynomial regression be applied to multiple variables\n",
    "Answer-\n",
    "    Yes, Polynomial Regression can be applied to multiple variables, and this is known as Multiple Polynomial Regression.\n",
    "    When to Use:\n",
    "    When the data shows non-linear relationships between multiple independent variables and the dependent variable.\n",
    "    For example, predicting house prices based on both size and number of rooms with non-linear effects.\n",
    "\n",
    "\"\"\""
   ]
  },
  {
   "cell_type": "code",
   "execution_count": null,
   "metadata": {},
   "outputs": [],
   "source": [
    "\"\"\"\n",
    "Q28) What are the limitations of polynomial regression\n",
    "Answer-\n",
    "    Overfitting:\n",
    "    As the degree of the polynomial increases, the model can fit noise in the data, leading to overfitting, where the model performs well on training data but poorly on new, unseen data.\n",
    "    \n",
    "    Complexity:\n",
    "    Higher-degree polynomials can make the model more complex, harder to interpret, and computationally expensive.\n",
    "    \n",
    "    Extrapolation Issues:\n",
    "    Polynomial regression models may behave erratically outside the range of the data, leading to unreliable predictions for values of \n",
    "    X not seen in the training set.\n",
    "    \n",
    "    Multicollinearity:\n",
    "    In multiple polynomial regression, higher-order terms (like X2,X3) can lead to multicollinearity, where predictors become highly \n",
    "    correlated, affecting the stability of the model.\n",
    "    \n",
    "    Interpretability:\n",
    "    The more complex the polynomial, the harder it becomes to understand the relationship between predictors and the target variable.\n",
    "\n",
    "\"\"\""
   ]
  },
  {
   "cell_type": "code",
   "execution_count": null,
   "metadata": {},
   "outputs": [],
   "source": [
    "\"\"\"\n",
    "Q29) What methods can be used to evaluate model fit when selecting the degree of a polynomial\n",
    "Answer-\n",
    "    To evaluate the model fit when selecting the degree of a polynomial:\n",
    "    Cross-Validation: Tests the model on different subsets of data to check its generalization.\n",
    "    \n",
    "    Adjusted R²: Adjusts R2 to account for the number of predictors and penalizes overfitting.\n",
    "    \n",
    "    AIC/BIC: Measures that balance model fit and complexity. Lower values are better.\n",
    "    \n",
    "    Residual Analysis: Check residuals for randomness. If they are random, the model fits well.\n",
    "    \n",
    "    Validation Set: Split the data into training and validation sets to see how well the model performs on new data.\n",
    "\n",
    "\"\"\""
   ]
  },
  {
   "cell_type": "code",
   "execution_count": null,
   "metadata": {},
   "outputs": [],
   "source": [
    "\"\"\"\n",
    "Q30) Why is visualization important in polynomial regression\n",
    "Answer-\n",
    "    Visualization is important in polynomial regression because:\n",
    "\n",
    "    Helps understand data patterns: It shows if the data has a non-linear relationship, helping to decide if polynomial regression is \n",
    "    needed.\n",
    "   \n",
    "    Shows model fit: Visualization allows you to see how well the polynomial curve fits the data, especially for higher-degree \n",
    "    polynomials.\n",
    "   \n",
    "    Identifies overfitting: A plot can reveal if the model is too complex and overfitting, by showing overly wiggly curves that don't \n",
    "    generalize well.\n",
    "\n",
    "\"\"\""
   ]
  },
  {
   "cell_type": "code",
   "execution_count": 1,
   "metadata": {},
   "outputs": [
    {
     "data": {
      "image/png": "[encoded data removed]",
      "text/plain": [
       "<Figure size 640x480 with 1 Axes>"
      ]
     },
     "metadata": {},
     "output_type": "display_data"
    }
   ],
   "source": [
    "\"\"\"\n",
    "Q31) How is polynomial regression implemented in Python?\n",
    "Answer-\n",
    "\"\"\"\n",
    "\n",
    "import numpy as np\n",
    "import matplotlib.pyplot as plt\n",
    "from sklearn.linear_model import LinearRegression\n",
    "from sklearn.preprocessing import PolynomialFeatures\n",
    "\n",
    "# Example data (X and Y)\n",
    "X = np.array([[1], [2], [3], [4], [5]])  \n",
    "Y = np.array([1, 4, 9, 16, 25])  \n",
    "\n",
    "# Create polynomial features (degree 2)\n",
    "poly = PolynomialFeatures(degree=2)\n",
    "X_poly = poly.fit_transform(X)\n",
    "\n",
    "# Fit a linear regression model on the transformed data\n",
    "model = LinearRegression()\n",
    "model.fit(X_poly, Y)\n",
    "\n",
    "# Predict using the model\n",
    "Y_pred = model.predict(X_poly)\n",
    "\n",
    "# Visualize the polynomial regression curve\n",
    "plt.scatter(X, Y, color='red')  \n",
    "plt.plot(X, Y_pred, color='blue')  \n",
    "plt.show()\n"
   ]
  },
  {
   "cell_type": "code",
   "execution_count": null,
   "metadata": {},
   "outputs": [],
   "source": []
  },
  {
   "cell_type": "code",
   "execution_count": null,
   "metadata": {},
   "outputs": [],
   "source": []
  },
  {
   "cell_type": "code",
   "execution_count": null,
   "metadata": {},
   "outputs": [],
   "source": []
  },
  {
   "cell_type": "code",
   "execution_count": null,
   "metadata": {},
   "outputs": [],
   "source": []
  },
  {
   "cell_type": "code",
   "execution_count": null,
   "metadata": {},
   "outputs": [],
   "source": []
  }
 ],
 "metadata": {
  "kernelspec": {
   "display_name": "Python 3",
   "language": "python",
   "name": "python3"
  },
  "language_info": {
   "codemirror_mode": {
    "name": "ipython",
    "version": 3
   },
   "file_extension": ".py",
   "mimetype": "text/x-python",
   "name": "python",
   "nbconvert_exporter": "python",
   "pygments_lexer": "ipython3",
   "version": "3.12.6"
  }
 },
 "nbformat": 4,
 "nbformat_minor": 2
}
