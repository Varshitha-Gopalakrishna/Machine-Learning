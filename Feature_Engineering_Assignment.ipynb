{
 "cells": [
  {
   "cell_type": "code",
   "execution_count": null,
   "metadata": {},
   "outputs": [],
   "source": [
    "\"\"\"\n",
    "Q1) What is a parameter?\n",
    "Answer-\n",
    "    A parameter is a variable used to pass information to a function, method, or procedure. It acts as a placeholder that gets a value when the\n",
    "    function is called. Parameters allow functions to operate on different data without modifying their internal code.\n",
    "\n",
    "    Why Parameters Are Useful:\n",
    "    1. They make functions more flexible and reusable.\n",
    "    2. They help functions to operate on different inputs and return corresponding results.\n",
    "\"\"\""
   ]
  },
  {
   "cell_type": "code",
   "execution_count": null,
   "metadata": {},
   "outputs": [],
   "source": [
    "# Types of Parameters:\n",
    "# 1. Formal Parameters - Defined in the function signature.\n",
    "\n",
    "def greet(name):   \n",
    "    print(f'Hello {name}!')\n",
    "\n",
    "# name is the formal parameter"
   ]
  },
  {
   "cell_type": "code",
   "execution_count": null,
   "metadata": {},
   "outputs": [
    {
     "name": "stdout",
     "output_type": "stream",
     "text": [
      "Hello Gopal!\n"
     ]
    }
   ],
   "source": [
    "# Actual Parameters (Arguments):\n",
    "# 2. The values provided to the function when it is called.\n",
    "\n",
    "greet('Gopal')\n",
    "\n",
    "# Gopal is an actual parameter (or argument)"
   ]
  },
  {
   "cell_type": "code",
   "execution_count": null,
   "metadata": {},
   "outputs": [],
   "source": [
    "\"\"\"\n",
    "Q2) What is correlation? What does negative correlation mean?\n",
    "Answer-\n",
    "    Correlation is a statistical measure that describes the relationship between two variables. It indicates how changes in one variable are\n",
    "    associated with changes in another. Correlation values range from -1 to +1.\n",
    "\n",
    "    Types of Correlation:\n",
    "    1. Positive Correlation - When one variable increases, the other also increases.\n",
    "       Example: Height and weight tend to have a positive correlation.\n",
    "\n",
    "    2. Zero Correlation - No relationship exists between the two variables.\n",
    "       Example: Shoe size and intelligence.\n",
    "\n",
    "    \n",
    "    3. Negative Correlation - When one variable increases, the other decreases.\n",
    "       Example: Speed of a car and time taken to reach a destination.\n",
    "       Interpreting Negative Correlation:\n",
    "       If the correlation between two variables is negative, it suggests an inverse relationship:\n",
    "       * Close to -1: A strong inverse relationship.\n",
    "       * Close to 0: A weak or negligible inverse relationship.\n",
    "\"\"\""
   ]
  },
  {
   "cell_type": "markdown",
   "metadata": {},
   "source": []
  },
  {
   "attachments": {
    "image.png": {
     "image/png": "[encoded data removed]"
    }
   },
   "cell_type": "markdown",
   "metadata": {},
   "source": [
    "![image.png](attachment:image.png)"
   ]
  },
  {
   "cell_type": "code",
   "execution_count": null,
   "metadata": {},
   "outputs": [],
   "source": [
    "\"\"\"\n",
    "Q3) Define Machine Learning. What are the main components in Machine Learning?\n",
    "Answer-\n",
    "    Machine Learning (ML) is a subset of artificial intelligence (AI) that focuses on building systems that can learn from and make decisions\n",
    "    based on data without being explicitly programmed. It involves creating algorithms that can identify patterns, make predictions, or take\n",
    "    actions based on input data.\n",
    "    Key Features of Machine Learning:\n",
    "    1. Data-Driven: Uses data to train models.\n",
    "    2. Predictive Capability: Can predict outcomes based on learned patterns.\n",
    "    3. Self-Improvement: Improves performance as it is exposed to more data.\n",
    "\n",
    "    Main Components of Machine Learning:\n",
    "    1. Data: The foundation of any ML system. ML models learn patterns and relationships from data.\n",
    "       Types:\n",
    "       1. Structured Data: Tabular data (e.g., CSV files).\n",
    "       2. Unstructured Data: Images, text, audio.\n",
    "       Key Activities: Data collection, cleaning, preprocessing.\n",
    "    \n",
    "    2. Features: Individual measurable properties or characteristics used as input for the model.\n",
    "       Feature Engineering:\n",
    "       1. Selecting the right features.\n",
    "       2. Transforming data into suitable formats.\n",
    "\n",
    "    3. Model: A mathematical representation of a real-world process based on input data.\n",
    "       Types:\n",
    "       1. Supervised Learning Models: Regression, classification.\n",
    "       2. Unsupervised Learning Models: Clustering, dimensionality reduction.\n",
    "       3. Reinforcement Learning Models: Decision-making systems.\n",
    "    \n",
    "    4. Algorithm: The method or procedure used to build the model by learning patterns from data.\n",
    "       Examples: Linear Regression, Decision Trees, Neural Networks, Support Vector Machines (SVM).\n",
    "    \n",
    "    5. Training: The process of feeding data to the model and allowing it to learn the underlying patterns.\n",
    "       Objective: Minimize error and improve accuracy.\n",
    "    \n",
    "    6. Evaluation: Assessing the model's performance using metrics.\n",
    "       Key Metrics:\n",
    "       Accuracy, Precision, Recall, F1-Score (for classification).\n",
    "       Mean Squared Error, R² (for regression).\n",
    "    \n",
    "    7. Hyperparameters: Configurable parameters external to the model that affect its training process.\n",
    "       Examples: Learning rate, number of layers in a neural network, maximum depth of a tree.\n",
    "    \n",
    "    8. Prediction: Using the trained model to make predictions on new, unseen data.\n",
    "       Applications: Spam detection, stock price prediction, image classification.\n",
    "    \n",
    "    9. Optimization: Adjusting model parameters to minimize a loss function.\n",
    "       Techniques: Gradient Descent, Stochastic Gradient Descent (SGD).\n",
    "\"\"\""
   ]
  },
  {
   "cell_type": "code",
   "execution_count": null,
   "metadata": {},
   "outputs": [],
   "source": [
    "\"\"\"\n",
    "Q4) How does loss value help in determining whether the model is good or not?\n",
    "Answer-\n",
    "    The loss value is a numerical measure of how well a machine learning model's predictions match the actual target values. It plays a critical role in determining the model's \n",
    "    performance during training and evaluation.\n",
    "\n",
    "    How Loss Value Determines Model Quality -\n",
    "    1. Indicates Model's Accuracy:\n",
    "       * A lower loss value indicates that the model's predictions are closer to the actual targets, meaning the model is performing well.\n",
    "       * A higher loss value suggests the model is making significant errors and may need further improvement.\n",
    "    \n",
    "    2. Guides Optimization:\n",
    "       * During training, the model uses the gradient of the loss function to update its parameters (weights and biases) in a direction that minimizes the loss.\n",
    "       * A consistently decreasing loss during training implies the model is learning effectively.\n",
    "    \n",
    "    3. Prevents Overfitting or Underfitting:\n",
    "       * If the loss on the training set is low but high on the validation set, the model might be overfitting.\n",
    "       * A persistently high loss on both training and validation sets indicates underfitting, meaning the model is too simple to capture the patterns in the data.\n",
    "    \n",
    "    4. Comparison Between Models:\n",
    "       * The loss value is a key metric for comparing the performance of different models or configurations.\n",
    "       * For example, after testing several architectures, the one with the lowest validation loss might be selected.\n",
    "    \n",
    "    5. Identifies Convergence:\n",
    "       * The loss value plateaus when the model has reached its optimal learning capacity (converged).\n",
    "       * If the loss does not decrease further, adjustments like learning rate changes or early stopping might be necessary.\n",
    "\"\"\""
   ]
  },
  {
   "cell_type": "code",
   "execution_count": null,
   "metadata": {},
   "outputs": [],
   "source": [
    "\"\"\"\n",
    "Q5) What are continuous and categorical variables?\n",
    "Answer-\n",
    "    In data analysis and statistics, variables are classified based on the type of data they represent. Two common types are continuous variables and categorical variables:\n",
    "    1. Continuous Variables - Continuous variables are numerical values that can take any value within a range, often representing measurements.\n",
    "    Characteristics:  1. Can have fractions or decimals (e.g., 1.5, 3.14).\n",
    "    2. Have an infinite number of possible values between two points.\n",
    "    3. Typically used in quantitative analysis.\n",
    "    Examples:\n",
    "    Height (e.g., 5.6 feet)\n",
    "    Weight (e.g., 70.5 kg)\n",
    "    Temperature (e.g., 98.6°F)\n",
    "    Time (e.g., 2.35 seconds)\n",
    "\n",
    "    2. Categorical Variables\n",
    "    Definition: Categorical variables represent data that can be divided into groups or categories. These categories are often labels or names.\n",
    "    Characteristics:\n",
    "    Do not have numerical meaning.\n",
    "    Can be nominal (no inherent order) or ordinal (inherent order).\n",
    "    Used in qualitative analysis.\n",
    "    Examples:\n",
    "    Nominal:\n",
    "    Gender (e.g., Male, Female, Other)\n",
    "    Colors (e.g., Red, Green, Blue)\n",
    "    Marital Status (e.g., Single, Married, Divorced)\n",
    "    Ordinal:\n",
    "    Education Level (e.g., High School, Bachelor’s, Master’s)\n",
    "    Satisfaction Rating (e.g., Low, Medium, High)\n",
    "\n",
    "\"\"\""
   ]
  },
  {
   "cell_type": "code",
   "execution_count": null,
   "metadata": {},
   "outputs": [],
   "source": [
    "\"\"\"\n",
    "Q6) How do we handle categorical variables in Machine Learning? What are the common techniques?\n",
    "Answer-\n",
    "    To handle categorical variables in machine learning, common techniques include:\n",
    "\n",
    "    1. **Label Encoding**: Assigns a unique integer to each category (e.g., `Red = 0, Green = 1`).\n",
    "    2. **One-Hot Encoding**: Creates binary columns for each category (e.g., `Red = [1, 0, 0], Green = [0, 1, 0]`).\n",
    "    3. **Ordinal Encoding**: Assigns ordered integers based on category ranking.\n",
    "    4. **Target/Mean Encoding**: Replaces categories with their corresponding target variable mean.\n",
    "    5. **Frequency Encoding**: Replaces categories with their frequency in the dataset.\n",
    "    6. **Embedding**: Maps categories into dense vectors, typically used in deep learning.\n",
    "\n",
    "    The choice depends on the dataset, model, and problem type.\n",
    "\"\"\""
   ]
  },
  {
   "cell_type": "code",
   "execution_count": null,
   "metadata": {},
   "outputs": [],
   "source": [
    "\"\"\"\n",
    "Q7) What do you mean by training and testing a dataset?\n",
    "Answer-\n",
    "    Training a dataset means using a portion of the data to teach the machine learning model to recognize patterns and relationships.\n",
    "    Testing a dataset means using a separate portion of the data to evaluate the model's performance on unseen data, ensuring it\n",
    "    generalizes well.\n",
    "    Typically, the data is split into training (e.g., 70-80%) and testing (e.g., 20-30%) sets.\n",
    "\n",
    "\"\"\""
   ]
  },
  {
   "cell_type": "code",
   "execution_count": null,
   "metadata": {},
   "outputs": [],
   "source": [
    "\"\"\"\n",
    "Q8) What is sklearn.preprocessing?\n",
    "Answer-\n",
    "    sklearn.preprocessing is a module in scikit-learn that provides tools to preprocess data, such as scaling, normalizing, encoding, \n",
    "    and transforming features, to make it suitable for machine learning models. Common tools include StandardScaler, MinMaxScaler, \n",
    "    LabelEncoder, and OneHotEncoder.\n",
    "\n",
    "\"\"\""
   ]
  },
  {
   "cell_type": "code",
   "execution_count": null,
   "metadata": {},
   "outputs": [],
   "source": [
    "\"\"\"\n",
    "Q9) What is a Test set?\n",
    "Answer-\n",
    "    A test set is a portion of the dataset used to evaluate the performance of a trained machine learning model. It contains unseen data\n",
    "    (not used during training) to measure how well the model generalizes to new, real-world data.\n",
    "\n",
    "\"\"\""
   ]
  },
  {
   "cell_type": "code",
   "execution_count": null,
   "metadata": {},
   "outputs": [],
   "source": [
    "\"\"\"\n",
    "Q10) How do we split data for model fitting (training and testing) in Python? How do you approach a Machine Learning problem?\n",
    "Answer-\n",
    "    In Python, data can be split using `train_test_split()` from `sklearn.model_selection`, where you specify the dataset and the test \n",
    "    size (e.g., 80% training, 20% testing). The typical approach involves: understanding the problem, collecting and preparing data \n",
    "    (including feature engineering), splitting the data into training and test sets, selecting a model, training it, evaluating performance, and fine-tuning.\n",
    "\n",
    "\n",
    "\"\"\""
   ]
  },
  {
   "cell_type": "code",
   "execution_count": null,
   "metadata": {},
   "outputs": [],
   "source": [
    "\"\"\"\n",
    "Q11) Why do we have to perform EDA before fitting a model to the data?\n",
    "Answer-\n",
    "    EDA (Exploratory Data Analysis) helps understand the data, detect patterns, identify outliers, and guide feature selection, ensuring the model is built on a solid understanding of the data.\n",
    "\n",
    "\"\"\""
   ]
  },
  {
   "cell_type": "code",
   "execution_count": null,
   "metadata": {},
   "outputs": [],
   "source": [
    "\"\"\"\n",
    "Q12) What is correlation?\n",
    "Answer-\n",
    "    Correlation is a statistical measure that describes the relationship between two variables, indicating whether they move together or in opposite directions.\n",
    "\n",
    "\"\"\""
   ]
  },
  {
   "cell_type": "code",
   "execution_count": null,
   "metadata": {},
   "outputs": [],
   "source": [
    "\"\"\"\n",
    "Q13) What does negative correlation mean?\n",
    "Answer-\n",
    "    Negative correlation means that as one variable increases, the other decreases. For example, as temperature increases, the use of heating may decrease.\n",
    "\"\"\""
   ]
  },
  {
   "cell_type": "code",
   "execution_count": null,
   "metadata": {},
   "outputs": [],
   "source": [
    "\n",
    "\"\"\"\n",
    "Q14) How can you find correlation between variables in Python?\n",
    "Answer-\n",
    "    You can find correlation using `pandas.DataFrame.corr()` to compute pairwise correlations or `seaborn.heatmap()` for a visual representation.\n",
    "\"\"\"\n"
   ]
  },
  {
   "cell_type": "code",
   "execution_count": null,
   "metadata": {},
   "outputs": [],
   "source": [
    "\"\"\"\n",
    "Q15) What is causation? Explain difference between correlation and causation with an example.\n",
    "Answer-\n",
    "    Causation implies that one event directly causes another. Correlation shows a relationship but doesn’t imply causality. For example, ice cream sales and drowning incidents are correlated, but ice cream does not cause drowning; both are related to warm weather.\n",
    "\"\"\"\n"
   ]
  },
  {
   "cell_type": "code",
   "execution_count": null,
   "metadata": {},
   "outputs": [],
   "source": [
    "\"\"\"\n",
    "Q16) What is an Optimizer? What are different types of optimizers? Explain each with an example.\n",
    "Answer-\n",
    "    An optimizer adjusts model parameters to minimize the loss function. Common types are:\n",
    "    - **Gradient Descent**: Iteratively updates weights by following the gradient of the loss function.\n",
    "    - **SGD (Stochastic Gradient Descent)**: A variant of gradient descent using random subsets of the data for faster updates.\n",
    "    - **Adam**: Combines the advantages of both AdaGrad and RMSProp, adapting learning rates for each parameter.\n",
    "\"\"\""
   ]
  },
  {
   "cell_type": "code",
   "execution_count": null,
   "metadata": {},
   "outputs": [],
   "source": [
    "\"\"\"\n",
    "Q17) What is sklearn.linear_model?\n",
    "Answer-\n",
    "    `sklearn.linear_model` is a module in scikit-learn that contains linear models, such as **Linear Regression**, **Logistic Regression**, and **Ridge Regression**, used for regression and classification tasks.\n",
    "\"\"\""
   ]
  },
  {
   "cell_type": "code",
   "execution_count": null,
   "metadata": {},
   "outputs": [],
   "source": [
    "\"\"\"\n",
    "Q18) What does model.fit() do? What arguments must be given?\n",
    "Answer-\n",
    "    `model.fit()` trains the model using the provided training data (`X_train`, `y_train`), where `X_train` is the input features and `y_train` is the target labels.\n",
    "\"\"\""
   ]
  },
  {
   "cell_type": "code",
   "execution_count": null,
   "metadata": {},
   "outputs": [],
   "source": [
    "\"\"\"\n",
    "Q19) What does model.predict() do? What arguments must be given?\n",
    "Answer-\n",
    "    `model.predict()` makes predictions using the trained model on new input data (`X_test`), where `X_test` consists of feature values for which you want predictions.\n",
    "\"\"\"\n"
   ]
  },
  {
   "cell_type": "code",
   "execution_count": null,
   "metadata": {},
   "outputs": [],
   "source": [
    "\"\"\"\n",
    "Q20) What are continuous and categorical variables?\n",
    "Answer-\n",
    "    Continuous variables are numeric values that can take any value within a range (e.g., height), while categorical variables represent discrete groups or categories (e.g., gender).\n",
    "\"\"\""
   ]
  },
  {
   "cell_type": "code",
   "execution_count": null,
   "metadata": {},
   "outputs": [],
   "source": [
    "\"\"\"\n",
    "Q21) What is feature scaling? How does it help in Machine Learning?\n",
    "Answer-\n",
    "    Feature scaling standardizes or normalizes the feature values, ensuring all features contribute equally to the model. It helps improve convergence in optimization algorithms and ensures models are not biased by varying feature scales.\n",
    "\"\"\""
   ]
  },
  {
   "cell_type": "code",
   "execution_count": null,
   "metadata": {},
   "outputs": [],
   "source": [
    "\"\"\"\n",
    "Q22) How do we perform scaling in Python?\n",
    "Answer-\n",
    "    Scaling can be performed using `sklearn.preprocessing.StandardScaler` for standardization or `MinMaxScaler` for normalization.\n",
    "\"\"\""
   ]
  },
  {
   "cell_type": "code",
   "execution_count": null,
   "metadata": {},
   "outputs": [],
   "source": [
    "\n",
    "\"\"\"\n",
    "Q23) What is sklearn.preprocessing?\n",
    "Answer-\n",
    "    `sklearn.preprocessing` is a module in scikit-learn providing utilities for scaling, encoding, and transforming data, such as **StandardScaler**, **OneHotEncoder**, and **LabelEncoder**.\n",
    "\"\"\""
   ]
  },
  {
   "cell_type": "code",
   "execution_count": null,
   "metadata": {},
   "outputs": [],
   "source": [
    "\"\"\"\n",
    "Q24) How do we split data for model fitting (training and testing) in Python?\n",
    "Answer-\n",
    "    Data is split using `train_test_split()` from `sklearn.model_selection`, where you provide the dataset and specify the `test_size` to split the data into training and testing sets.\n",
    "\"\"\""
   ]
  },
  {
   "cell_type": "code",
   "execution_count": null,
   "metadata": {},
   "outputs": [],
   "source": [
    "\n",
    "\"\"\"\n",
    "Q25) Explain data encoding?\n",
    "Answer-\n",
    "    Data encoding transforms categorical variables into numeric representations, such as **Label Encoding** (assigning integers) or **One-Hot Encoding** (creating binary columns for each category).\n",
    "\"\"\""
   ]
  }
 ],
 "metadata": {
  "kernelspec": {
   "display_name": "Python 3",
   "language": "python",
   "name": "python3"
  },
  "language_info": {
   "codemirror_mode": {
    "name": "ipython",
    "version": 3
   },
   "file_extension": ".py",
   "mimetype": "text/x-python",
   "name": "python",
   "nbconvert_exporter": "python",
   "pygments_lexer": "ipython3",
   "version": "3.12.6"
  }
 },
 "nbformat": 4,
 "nbformat_minor": 2
}
